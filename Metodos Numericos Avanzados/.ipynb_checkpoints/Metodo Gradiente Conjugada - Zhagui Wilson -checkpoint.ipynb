{
 "cells": [
  {
   "cell_type": "markdown",
   "metadata": {},
   "source": [
    "<h1 style= \"text-align:center\"> Metodos Gradiente Conjugado </h1>\n",
    "\n",
    "#### Librerias Necesarias:\n",
    "\n",
    "<p> Para instalar cualquier libreria utilizar </p>\n",
    "<p style=\"font-weight:normal; font-family: 'Inconsolata', monospace;\">\n",
    "import Pkg;\n",
    "<br>\n",
    "Pkg.add(\"NombreLibreria\")\n",
    "</p>\n",
    "\n",
    "\n",
    "#### Nombre de Librerias:\n",
    "\n",
    "- IJulia\n",
    "- Gadfly \n",
    "- LinearAlgebra\n"
   ]
  },
  {
   "cell_type": "markdown",
   "metadata": {},
   "source": [
    "# Metodo de gradientes conjugados\n",
    "\n",
    "https://groups.google.com/forum/#!topic/julia-users/jsAA7M7L68E\n"
   ]
  },
  {
   "cell_type": "markdown",
   "metadata": {},
   "source": [
    "https://github.com/JuliaNLSolvers/Optim.jl/blob/master/docs/src/algo/cg.md"
   ]
  },
  {
   "cell_type": "code",
   "execution_count": 6,
   "metadata": {},
   "outputs": [
    {
     "data": {
      "text/plain": [
       "g! (generic function with 1 method)"
      ]
     },
     "execution_count": 6,
     "metadata": {},
     "output_type": "execute_result"
    }
   ],
   "source": [
    "using LinearAlgebra\n",
    "using Optim\n",
    "f(x) = (1.0 - x[1])^2 + 100.0 * (x[2] - x[1]^2)^2\n",
    "function g!(storage, x)\n",
    "    storage[1] = -2.0 * (1.0 - x[1]) - 400.0 * (x[2] - x[1]^2) * x[1]\n",
    "    storage[2] = 200.0 * (x[2] - x[1]^2)\n",
    "end"
   ]
  },
  {
   "cell_type": "code",
   "execution_count": 7,
   "metadata": {},
   "outputs": [
    {
     "data": {
      "text/plain": [
       " * Status: success\n",
       "\n",
       " * Candidate solution\n",
       "    Minimizer: [1.00e+00, 1.00e+00]\n",
       "    Minimum:   5.144946e-18\n",
       "\n",
       " * Found with\n",
       "    Algorithm:     Conjugate Gradient\n",
       "    Initial Point: [0.00e+00, 0.00e+00]\n",
       "\n",
       " * Convergence measures\n",
       "    |x - x'|               = 2.09e-10 ≰ 0.0e+00\n",
       "    |x - x'|/|x'|          = 2.09e-10 ≰ 0.0e+00\n",
       "    |f(x) - f(x')|         = 7.99e-18 ≰ 0.0e+00\n",
       "    |f(x) - f(x')|/|f(x')| = 1.55e+00 ≰ 0.0e+00\n",
       "    |g(x)|                 = 3.36e-09 ≤ 1.0e-08\n",
       "\n",
       " * Work counters\n",
       "    Seconds run:   0  (vs limit Inf)\n",
       "    Iterations:    21\n",
       "    f(x) calls:    54\n",
       "    ∇f(x) calls:   39\n"
      ]
     },
     "execution_count": 7,
     "metadata": {},
     "output_type": "execute_result"
    }
   ],
   "source": [
    "optimize(f, g!, zeros(2), ConjugateGradient())"
   ]
  },
  {
   "cell_type": "code",
   "execution_count": 9,
   "metadata": {},
   "outputs": [
    {
     "name": "stdout",
     "output_type": "stream",
     "text": [
      "  0.000153 seconds (624 allocations: 24.578 KiB)\n"
     ]
    }
   ],
   "source": [
    "#Costo Computacional\n",
    "@time optimize(f, g!, zeros(2), ConjugateGradient());"
   ]
  },
  {
   "cell_type": "markdown",
   "metadata": {},
   "source": [
    "<strong>Fuente</strong>\n",
    "\n",
    "https://github.com/abelsiqueira/abelsiqueira.github.io/blob/master/disciplinas/cm114/04-gradiente-e-busca-linear.ipynb\n",
    "\n",
    "https://github.com/darkar5555/gradiente/blob/master/gradiente.ipynb\n",
    "\n",
    "https://github.com/johnj-hernandez/GradienteDescendente\n",
    "\n",
    "Matrices\n",
    "\n",
    "https://github.com/JuliaComputing/JuliaBoxTutorials/blob/master/introductory-tutorials/intro-to-julia-ES/11.Factorizaciones%20y%20otras%20diversiones.ipynb?short_path=43424ed\n",
    "\n",
    "Algoritmo\n",
    "\n",
    "http://esfm.egormaximenko.com/numlinalg/prog_conjugated_gradient_es.pdf \n",
    "\n",
    "Apuntes\n",
    "\n",
    "http://esfm.egormaximenko.com/numlinalg/gradient_method_es.pdf\n",
    "\n",
    "http://esfm.egormaximenko.com/numlinalg/conjugate_gradient_method_theory_es.pdf\n",
    "\n",
    "https://dlegorreta.wordpress.com/tag/gradiente-conjugado/\n",
    "\n",
    "Explicacion General Metodo\n",
    "\n",
    "http://esfm.egormaximenko.com/numerical_analysis1.html#partcg"
   ]
  }
 ],
 "metadata": {
  "kernelspec": {
   "display_name": "Julia 1.3.0",
   "language": "julia",
   "name": "julia-1.3"
  },
  "language_info": {
   "file_extension": ".jl",
   "mimetype": "application/julia",
   "name": "julia",
   "version": "1.3.0"
  }
 },
 "nbformat": 4,
 "nbformat_minor": 2
}
