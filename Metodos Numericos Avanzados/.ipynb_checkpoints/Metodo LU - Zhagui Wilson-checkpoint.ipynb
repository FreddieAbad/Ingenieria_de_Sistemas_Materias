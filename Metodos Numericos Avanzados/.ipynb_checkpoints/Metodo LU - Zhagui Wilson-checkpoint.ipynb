{
 "cells": [
  {
   "cell_type": "markdown",
   "metadata": {},
   "source": [
    "<h1 style= \"text-align:center\"> Metodos LU </h1>\n",
    "\n",
    "Condiciones de Algoritmos:\n",
    "\n",
    "- Matrices para los 3 programas [10x10], [100x100], [1000x1000] y [10.000x10.000] \n",
    "- Matrices simetricas y diagonalmente dominantes\n",
    "- Identificar el costo computacional\n",
    "\n",
    "#### Librerias Necesarias:\n",
    "\n",
    "<p> Para instalar cualquier libreria utilizar </p>\n",
    "<p style=\"font-weight:normal; font-family: 'Inconsolata', monospace;\">\n",
    "import Pkg;\n",
    "<br>\n",
    "Pkg.add(\"NombreLibreria\")\n",
    "</p>\n",
    "\n",
    "\n",
    "#### Nombre de Librerias:\n",
    "\n",
    "- IJulia\n",
    "- Gadfly \n"
   ]
  },
  {
   "cell_type": "code",
   "execution_count": 8,
   "metadata": {},
   "outputs": [
    {
     "data": {
      "text/plain": [
       "10000×10000 Array{Float64,2}:\n",
       " -0.44356     0.701905    0.501776   …   0.803149   0.355032   -0.583181 \n",
       " -1.31483    -1.0542      1.28043       -1.30555    0.752317   -1.06492  \n",
       "  0.399201    1.15721    -0.063666      -0.210079  -0.333315    0.599    \n",
       " -0.937589    0.34882     1.53433        0.83183    0.680287   -0.132488 \n",
       "  1.17328    -0.59839    -0.642663      -0.770884   1.30257     0.549424 \n",
       "  0.81546     0.317818   -1.42789    …  -0.882604  -1.19187    -0.229157 \n",
       "  0.790335    0.355464    0.248297      -1.70675    1.02852     1.51355  \n",
       "  0.297595    0.99544    -0.304627       1.3477    -1.1579     -0.0848831\n",
       "  0.0238982  -0.836874    0.0842957     -0.533192   0.595506   -0.49988  \n",
       "  0.442928   -0.115027    1.3276        -0.903535  -0.217549   -1.05409  \n",
       " -0.0519491   0.206889   -0.46593    …   0.880219  -0.926786    0.23407  \n",
       " -1.3275      2.26341    -1.12632       -1.20063   -0.555728    1.36279  \n",
       " -1.84514     0.179414   -0.402148      -1.17001   -0.327597    0.162097 \n",
       "  ⋮                                  ⋱                                   \n",
       " -0.487426    0.175584   -0.54087        0.188299  -0.0109157   0.796085 \n",
       " -0.659013   -0.712658   -0.172363       0.486092   0.116625    0.57412  \n",
       " -0.224996   -0.0574263  -1.05755    …   1.0876     0.154463   -0.34925  \n",
       "  1.28066     0.23756    -0.172501       1.57626    0.886977    0.568007 \n",
       " -0.572681   -0.591702   -0.86129        0.422826  -0.211588   -0.251539 \n",
       "  0.720441   -0.0270806   0.023864       0.26194    0.330959   -0.372418 \n",
       " -0.889174    0.731519   -0.934217       1.8044     0.267554   -0.676465 \n",
       " -2.53731    -0.463417    0.708803   …   0.925826  -0.346644    0.480287 \n",
       " -0.030461   -0.724961   -0.406291       1.33531   -0.164431    0.285677 \n",
       " -1.16376    -1.3652      0.108671      -1.11338   -0.678077    0.370107 \n",
       " -0.0799215  -0.237338   -1.47381       -0.971737   0.672628   -0.500335 \n",
       "  1.69373     0.582248   -0.463557       0.187035   0.879165    1.31034  "
      ]
     },
     "execution_count": 8,
     "metadata": {},
     "output_type": "execute_result"
    }
   ],
   "source": [
    "#Librerias\n",
    "using LinearAlgebra\n",
    "\n",
    "#Generar Matrices Aleatorias\n",
    "A = randn(10,10)\n",
    "B = randn(100,100)\n",
    "C = randn(1000,1000)\n",
    "D = randn(10000,10000)"
   ]
  },
  {
   "cell_type": "markdown",
   "metadata": {},
   "source": [
    "# Metodo LU"
   ]
  },
  {
   "cell_type": "markdown",
   "metadata": {},
   "source": [
    "Existe un metodo predeterminado en una libreria de Julia, tomada de ejemplo de:\n",
    "\n",
    "http://rosettacode.org/wiki/LU_decomposition"
   ]
  },
  {
   "cell_type": "code",
   "execution_count": 11,
   "metadata": {},
   "outputs": [
    {
     "name": "stdout",
     "output_type": "stream",
     "text": [
      "  0.000391 seconds (7 allocations: 1.219 KiB)\n"
     ]
    }
   ],
   "source": [
    "L,U,p = lu(A)\n",
    "#Costo Computacional\n",
    "@time lu(A);"
   ]
  },
  {
   "cell_type": "markdown",
   "metadata": {},
   "source": [
    "### Implementacion Metodo LU - Doolitle"
   ]
  },
  {
   "cell_type": "markdown",
   "metadata": {},
   "source": [
    "Implementacion del Metodo de Factorizacion LU - Doolitle, se hace la implementacion mediante una funcion para la reutilizacion del codigo.\n",
    "\n",
    "<strong>Nota</strong>\n",
    "Agregar la seccion de impresion de resultados si se desea visualizar las matrices L y U resultantes."
   ]
  },
  {
   "cell_type": "code",
   "execution_count": 27,
   "metadata": {},
   "outputs": [
    {
     "data": {
      "text/plain": [
       "\"    println(\\\"\\n\\tResultados\\n\\nMatriz L : \\n\\\");\\n    println(L);\\n    println(\\\"\\nMatriz U : \\n\\\");\\n    println(U);\\n\""
      ]
     },
     "execution_count": 27,
     "metadata": {},
     "output_type": "execute_result"
    }
   ],
   "source": [
    "function luDoolitle(A)\n",
    "    L = zeros(size(A));\n",
    "    U = zeros(size(A));\n",
    "    n=size(A)\n",
    "    filas = n[1]\n",
    "    columnas = n[2];\n",
    "\n",
    "    for j=1:columnas\n",
    "      for i=1:filas\n",
    "\n",
    "        if i<=j\n",
    "          U[i,j] = A[i,j];\n",
    "          for k=1:i-1\n",
    "            U[i,j] = U[i,j] - L[i,k]*U[k,j];\n",
    "          end\n",
    "        end    \n",
    "\n",
    "        if j<=i\n",
    "          L[i,j] = A[i,j];\n",
    "          for k=1:j-1\n",
    "            L[i,j] = L[i,j] - L[i,k]*U[k,j];\n",
    "          end\n",
    "          L[i,j] = L[i,j]/U[j,j];\n",
    "        end\n",
    "      end\n",
    "    end\n",
    "    #Impresion de las Matrices Resultantes\n",
    "    ##Agregar codigo impresion##\n",
    "end\n",
    "\n",
    "##Codigo Impresion\n",
    "\"\"\"\n",
    "    println(\"\\n\\tResultados\\n\\nMatriz L : \\n\");\n",
    "    println(L);\n",
    "    println(\"\\nMatriz U : \\n\");\n",
    "    println(U);\n",
    "\"\"\""
   ]
  },
  {
   "cell_type": "code",
   "execution_count": 11,
   "metadata": {},
   "outputs": [
    {
     "name": "stdout",
     "output_type": "stream",
     "text": [
      "Tiempo de Ejecucion - Algoritmo Implementado\n",
      "  0.000010 seconds (6 allocations: 1.906 KiB)\n",
      "Tiempo de Ejecucion - Funcion de Libreria\n",
      "  0.000346 seconds (7 allocations: 1.219 KiB)\n"
     ]
    },
    {
     "data": {
      "text/plain": [
       "LU{Float64,Array{Float64,2}}\n",
       "L factor:\n",
       "10×10 Array{Float64,2}:\n",
       "  1.0         0.0         0.0        …   0.0        0.0        0.0\n",
       "  0.49653     1.0         0.0            0.0        0.0        0.0\n",
       "  0.356576    0.741092    1.0            0.0        0.0        0.0\n",
       " -0.0515437   0.972423   -0.253232       0.0        0.0        0.0\n",
       " -0.0232394   0.224695   -0.673696       0.0        0.0        0.0\n",
       " -0.271241    0.441704   -0.542356   …   0.0        0.0        0.0\n",
       " -0.0816821  -0.278193    0.139323       0.0        0.0        0.0\n",
       "  0.348466   -0.985847   -0.255123       1.0        0.0        0.0\n",
       " -0.250669    0.478609   -0.0433264     -0.762326   1.0        0.0\n",
       " -0.489069    0.0653053  -0.150922      -0.584876  -0.0957765  1.0\n",
       "U factor:\n",
       "10×10 Array{Float64,2}:\n",
       " 2.22654   0.509611  -1.75119    0.53508  …  -0.541183   1.37632    0.779757\n",
       " 0.0      -0.838817   0.564152   0.81594     -0.378804   0.312368  -1.05287 \n",
       " 0.0       0.0        2.07449   -1.40539     -0.891554  -1.02174    0.629453\n",
       " 0.0       0.0        0.0       -3.11206      0.561194  -0.542314  -0.409479\n",
       " 0.0       0.0        0.0        0.0         -0.361542  -0.959686   1.38795 \n",
       " 0.0       0.0        0.0        0.0      …  -1.01223   -1.00387    0.484906\n",
       " 0.0       0.0        0.0        0.0          1.1597     0.370292   1.45731 \n",
       " 0.0       0.0        0.0        0.0          1.34791    0.351446  -2.60834 \n",
       " 0.0       0.0        0.0        0.0          0.0        1.54327   -2.26646 \n",
       " 0.0       0.0        0.0        0.0          0.0        0.0       -2.04036 "
      ]
     },
     "execution_count": 11,
     "metadata": {},
     "output_type": "execute_result"
    }
   ],
   "source": [
    "#Costo Computacional\n",
    "println(\"Costo Computacional - Algoritmo Implementado\")\n",
    "@time luDoolitle(A)\n",
    "println(\"Costo Computacional - Funcion de Libreria\")\n",
    "@time lu(A)\n"
   ]
  },
  {
   "cell_type": "code",
   "execution_count": 12,
   "metadata": {},
   "outputs": [
    {
     "name": "stdout",
     "output_type": "stream",
     "text": [
      "Tiempo de Ejecucion - Algoritmo Implementado\n",
      "  0.000877 seconds (8 allocations: 156.563 KiB)\n",
      "Tiempo de Ejecucion - Funcion de Libreria\n",
      "  0.006405 seconds (8 allocations: 79.266 KiB)\n"
     ]
    },
    {
     "data": {
      "text/plain": [
       "LU{Float64,Array{Float64,2}}\n",
       "L factor:\n",
       "100×100 Array{Float64,2}:\n",
       "  1.0         0.0         …  0.0        0.0        0.0       0.0\n",
       "  0.443493    1.0            0.0        0.0        0.0       0.0\n",
       " -0.0815106  -0.517996       0.0        0.0        0.0       0.0\n",
       " -0.12234    -0.0760449      0.0        0.0        0.0       0.0\n",
       " -0.77348    -0.427135       0.0        0.0        0.0       0.0\n",
       "  0.348795    0.422177    …  0.0        0.0        0.0       0.0\n",
       "  0.358435   -0.114731       0.0        0.0        0.0       0.0\n",
       " -0.074621   -0.954082       0.0        0.0        0.0       0.0\n",
       "  0.261908    0.74492        0.0        0.0        0.0       0.0\n",
       " -0.093684   -0.414347       0.0        0.0        0.0       0.0\n",
       " -0.5396     -0.0131085   …  0.0        0.0        0.0       0.0\n",
       "  0.627407    0.284945       0.0        0.0        0.0       0.0\n",
       "  0.221783   -0.11465        0.0        0.0        0.0       0.0\n",
       "  ⋮                       ⋱                                     \n",
       " -0.232627   -0.231045       0.0        0.0        0.0       0.0\n",
       " -0.0198827   0.00361846     0.0        0.0        0.0       0.0\n",
       " -0.295025   -0.429643    …  0.0        0.0        0.0       0.0\n",
       "  0.249065    0.610271       0.0        0.0        0.0       0.0\n",
       "  0.0699672  -0.236243       0.0        0.0        0.0       0.0\n",
       " -0.214388   -0.197389       0.0        0.0        0.0       0.0\n",
       "  0.097165    0.414972       0.0        0.0        0.0       0.0\n",
       "  0.39868    -0.0069931   …  0.0        0.0        0.0       0.0\n",
       "  0.0787395   0.386086       1.0        0.0        0.0       0.0\n",
       "  0.121047    0.217131       0.38686    1.0        0.0       0.0\n",
       "  0.170486   -0.0303955      0.669474   0.262818   1.0       0.0\n",
       "  0.13702     0.34489        0.371922  -0.493474  -0.612178  1.0\n",
       "U factor:\n",
       "100×100 Array{Float64,2}:\n",
       " 3.01094  -1.64856   0.301633  …   1.1395     -1.37863    -1.1018   \n",
       " 0.0       3.10653  -1.82448      -1.14599    -0.0909507  -1.20721  \n",
       " 0.0       0.0      -3.89614      -1.19355     0.535124    0.0291841\n",
       " 0.0       0.0       0.0           0.804898   -0.290564   -0.128973 \n",
       " 0.0       0.0       0.0           0.749288   -0.122152   -1.54841  \n",
       " 0.0       0.0       0.0       …   0.196212    1.98198     1.84839  \n",
       " 0.0       0.0       0.0          -0.0986768   2.21213     1.71853  \n",
       " 0.0       0.0       0.0           0.947069    0.457163    0.175552 \n",
       " 0.0       0.0       0.0           0.715978    0.564356    0.752481 \n",
       " 0.0       0.0       0.0           2.81448     0.092132    1.60202  \n",
       " 0.0       0.0       0.0       …   1.42033    -1.77345    -1.68852  \n",
       " 0.0       0.0       0.0          -1.9925      3.07184    -0.314565 \n",
       " 0.0       0.0       0.0          -1.41655     1.3965      0.233027 \n",
       " ⋮                             ⋱                                    \n",
       " 0.0       0.0       0.0          -4.35504    -0.432167    0.913467 \n",
       " 0.0       0.0       0.0          -1.90243    -4.23169    -2.02606  \n",
       " 0.0       0.0       0.0       …  -5.46895    -5.00682     1.63933  \n",
       " 0.0       0.0       0.0           6.2603      2.15026     0.319563 \n",
       " 0.0       0.0       0.0          -2.31586     2.29509    -1.17294  \n",
       " 0.0       0.0       0.0          -5.96658    -0.804787    2.94962  \n",
       " 0.0       0.0       0.0           3.57306    -0.76867    -0.0942804\n",
       " 0.0       0.0       0.0       …  -0.366665    3.17505     1.44934  \n",
       " 0.0       0.0       0.0          -1.54502    -4.29777    -1.63102  \n",
       " 0.0       0.0       0.0          -2.55714     2.68696     4.53441  \n",
       " 0.0       0.0       0.0           0.0        -3.8071      2.04308  \n",
       " 0.0       0.0       0.0           0.0         0.0        -0.528893 "
      ]
     },
     "execution_count": 12,
     "metadata": {},
     "output_type": "execute_result"
    }
   ],
   "source": [
    "#Tiempo de Ejecucion \n",
    "println(\"#Costo Computacional - Algoritmo Implementado\")\n",
    "@time luDoolitle(B)\n",
    "println(\"#Costo Computacional - Funcion de Libreria\")\n",
    "@time lu(B)"
   ]
  },
  {
   "cell_type": "code",
   "execution_count": 13,
   "metadata": {},
   "outputs": [
    {
     "name": "stdout",
     "output_type": "stream",
     "text": [
      "Tiempo de Ejecucion - Algoritmo Implementado\n",
      "  1.425529 seconds (8 allocations: 15.259 MiB)\n",
      "Tiempo de Ejecucion - Funcion de Libreria\n",
      "  0.053387 seconds (8 allocations: 7.637 MiB)\n"
     ]
    },
    {
     "data": {
      "text/plain": [
       "LU{Float64,Array{Float64,2}}\n",
       "L factor:\n",
       "1000×1000 Array{Float64,2}:\n",
       "  1.0         0.0          0.0         …   0.0        0.0       0.0      0.0\n",
       " -0.325778    1.0          0.0             0.0        0.0       0.0      0.0\n",
       "  0.421068   -0.706578     1.0             0.0        0.0       0.0      0.0\n",
       " -0.110383    0.32829     -0.0198629       0.0        0.0       0.0      0.0\n",
       " -0.442719    0.504822    -0.488284        0.0        0.0       0.0      0.0\n",
       " -0.115609    0.139457     0.170396    …   0.0        0.0       0.0      0.0\n",
       "  0.625057    0.224672    -0.207444        0.0        0.0       0.0      0.0\n",
       " -0.0364743  -0.228408    -0.00415776      0.0        0.0       0.0      0.0\n",
       " -0.234011    0.341278    -0.279691        0.0        0.0       0.0      0.0\n",
       " -0.122175   -0.167697     0.103969        0.0        0.0       0.0      0.0\n",
       "  0.384466   -0.226705    -0.0824713   …   0.0        0.0       0.0      0.0\n",
       "  0.159834    0.514912    -0.0526012       0.0        0.0       0.0      0.0\n",
       " -0.485293    0.00458476  -0.306769        0.0        0.0       0.0      0.0\n",
       "  ⋮                                    ⋱                                    \n",
       " -0.736347    0.198934    -0.282247        0.0        0.0       0.0      0.0\n",
       "  0.0647446   0.334014    -0.0643042       0.0        0.0       0.0      0.0\n",
       " -0.198747    0.019572    -0.168757    …   0.0        0.0       0.0      0.0\n",
       "  0.442238    0.468816    -0.140461        0.0        0.0       0.0      0.0\n",
       "  0.309997    0.129039    -0.206685        0.0        0.0       0.0      0.0\n",
       " -0.0835395   0.303338    -0.444563        0.0        0.0       0.0      0.0\n",
       "  0.340162   -0.34408      0.282823        0.0        0.0       0.0      0.0\n",
       "  0.273797   -0.0583271    0.221037    …   0.0        0.0       0.0      0.0\n",
       "  0.443144    0.0545082    0.136759        1.0        0.0       0.0      0.0\n",
       " -0.0741728  -0.27907      0.210054       -0.136979   1.0       0.0      0.0\n",
       " -0.0291177   0.0517451    0.0820349      -0.717514  -0.739473  1.0      0.0\n",
       "  0.158321    0.758235    -0.378164        0.107257  -0.608907  0.57189  1.0\n",
       "U factor:\n",
       "1000×1000 Array{Float64,2}:\n",
       " -3.32917  -0.125272  -0.504815   0.810846  …    0.757684      -0.879334 \n",
       "  0.0       3.32359    1.77963   -0.371099       0.723868      -0.339902 \n",
       "  0.0       0.0        4.44311   -1.55228        0.000513049    1.05298  \n",
       "  0.0       0.0        0.0       -3.2053         0.576148       0.0947999\n",
       "  0.0       0.0        0.0        0.0           -0.657164      -1.33236  \n",
       "  0.0       0.0        0.0        0.0       …    0.264227      -1.3265   \n",
       "  0.0       0.0        0.0        0.0           -0.451708      -0.445095 \n",
       "  0.0       0.0        0.0        0.0            0.903976       1.33257  \n",
       "  0.0       0.0        0.0        0.0           -1.11336       -0.17515  \n",
       "  0.0       0.0        0.0        0.0            0.249235       0.764421 \n",
       "  0.0       0.0        0.0        0.0       …    0.0327579     -1.03446  \n",
       "  0.0       0.0        0.0        0.0           -0.760974       1.99407  \n",
       "  0.0       0.0        0.0        0.0            3.00237        2.74036  \n",
       "  ⋮                                         ⋱                            \n",
       "  0.0       0.0        0.0        0.0          -30.2238        -9.52973  \n",
       "  0.0       0.0        0.0        0.0           -0.400762      13.1786   \n",
       "  0.0       0.0        0.0        0.0       …   -8.59573        5.24719  \n",
       "  0.0       0.0        0.0        0.0            0.526829      11.5742   \n",
       "  0.0       0.0        0.0        0.0          -18.867         28.3739   \n",
       "  0.0       0.0        0.0        0.0            8.74336       10.5791   \n",
       "  0.0       0.0        0.0        0.0           21.7849       -18.3471   \n",
       "  0.0       0.0        0.0        0.0       …   13.0272       -20.6438   \n",
       "  0.0       0.0        0.0        0.0           11.1916        -9.81925  \n",
       "  0.0       0.0        0.0        0.0           -3.51329       -8.44463  \n",
       "  0.0       0.0        0.0        0.0           36.0706       -30.1071   \n",
       "  0.0       0.0        0.0        0.0            0.0            5.18392  "
      ]
     },
     "execution_count": 13,
     "metadata": {},
     "output_type": "execute_result"
    }
   ],
   "source": [
    "#Costo Computacional\n",
    "println(\"Costo Computacional - Algoritmo Implementado\")\n",
    "@time luDoolitle(C)\n",
    "println(\"Costo Computacional - Funcion de Libreria\")\n",
    "@time lu(C)"
   ]
  },
  {
   "cell_type": "code",
   "execution_count": null,
   "metadata": {},
   "outputs": [],
   "source": [
    "#Costo Computacional\n",
    "println(\"Costo Computacional - Algoritmo Implementado\")\n",
    "@time luDoolitle(D)\n",
    "println(\"Costo Computacional - Funcion de Libreria\")\n",
    "@time lu(D)"
   ]
  },
  {
   "cell_type": "markdown",
   "metadata": {},
   "source": [
    "Algoritmo\n",
    "http://esfm.egormaximenko.com/numerical_methods/prog_LU_factorization_es.pdf\n",
    "http://esfm.egormaximenko.com/numerical_methods/LU_factorization_presentation_es.pdf\n",
    "Ejemplo Libreria LU:"
   ]
  },
  {
   "cell_type": "code",
   "execution_count": null,
   "metadata": {},
   "outputs": [],
   "source": []
  },
  {
   "cell_type": "markdown",
   "metadata": {},
   "source": [
    "# Metodo LU Crout"
   ]
  },
  {
   "cell_type": "markdown",
   "metadata": {},
   "source": [
    "Implementacion del Metodo de Factorizacion LU - Crout, se hace la implementacion mediante una funcion para la reutilizacion del codigo.\n",
    "\n",
    "<strong>\n",
    "Nota\n",
    "</strong> \n",
    "Descomentar la seccion de impresion de resultados si se desea visualizar las matrices L y U resultantes."
   ]
  },
  {
   "cell_type": "code",
   "execution_count": 28,
   "metadata": {},
   "outputs": [
    {
     "data": {
      "text/plain": [
       "\"        println(\\\"Descomposicion Crout\\\");\\n        println(\\\"\\n Matriz L:\\n\\\")\\n        println(L)\\n        println(\\\"\\n Matriz U:\\n\\\")\\n        println(u) \\n\""
      ]
     },
     "execution_count": 28,
     "metadata": {},
     "output_type": "execute_result"
    }
   ],
   "source": [
    "function luCrout(A)\n",
    "    L = zeros(size(A));\n",
    "    u = zeros(size(A));\n",
    "    nM=size(A);\n",
    "    n = nM[1];\n",
    "    m = nM[2];\n",
    "    \n",
    "    if n==m \n",
    "        for k=1:n\n",
    "            u[k,k]=1; \n",
    "            suma=0;\n",
    "            for p=1:k-1\n",
    "                suma=suma+L[k,p]*u[p,k];\n",
    "            end\n",
    "            L[k,k]=A[k,k]-suma; \n",
    "\n",
    "            for i=k+1:n\n",
    "                suma=0;\n",
    "                for r=1:k-1\n",
    "                    suma=suma+L[i,r]*u[r,k];\n",
    "                end\n",
    "                L[i,k]=A[i,k]-suma; \n",
    "            end\n",
    "            for j=k+1:n\n",
    "                suma=0;\n",
    "                for s=1:k-1\n",
    "                    suma=suma+L[k,s]*u[s,j];\n",
    "                end\n",
    "                u[k,j]=A[k,j]-suma/L[k,k]; \n",
    "            end\n",
    "        end\n",
    "        \n",
    "    else\n",
    "        println(\"\\nLa matriz debe ser cuadrada para factorizar mediante LU Crout\\n\");\n",
    "    end\n",
    "end\n",
    "\n",
    "##Codigo Impresion\n",
    "\"\"\"\n",
    "        println(\"Descomposicion Crout\");\n",
    "        println(\"\\n Matriz L:\\n\")\n",
    "        println(L)\n",
    "        println(\"\\n Matriz U:\\n\")\n",
    "        println(u) \n",
    "\"\"\""
   ]
  },
  {
   "cell_type": "code",
   "execution_count": 29,
   "metadata": {},
   "outputs": [
    {
     "name": "stdout",
     "output_type": "stream",
     "text": [
      "Tiempo de Ejecucion - Algoritmo Implementado\n",
      "  0.077381 seconds (53.85 k allocations: 2.634 MiB)\n",
      "Tiempo de Ejecucion - Funcion de Libreria\n",
      "  0.000338 seconds (7 allocations: 1.219 KiB)\n"
     ]
    },
    {
     "data": {
      "text/plain": [
       "LU{Float64,Array{Float64,2}}\n",
       "L factor:\n",
       "10×10 Array{Float64,2}:\n",
       "  1.0        0.0        0.0       …  0.0         0.0       0.0       0.0\n",
       "  0.498361   1.0        0.0          0.0         0.0       0.0       0.0\n",
       " -0.621274  -0.20924    1.0          0.0         0.0       0.0       0.0\n",
       "  0.556392   0.813669   0.215415     0.0         0.0       0.0       0.0\n",
       " -0.269703  -0.770947  -0.423806     0.0         0.0       0.0       0.0\n",
       "  0.208165  -0.445069   0.618079  …  0.0         0.0       0.0       0.0\n",
       "  0.198068  -0.170939   0.817989     1.0         0.0       0.0       0.0\n",
       " -0.500811  -0.182488   0.317421     0.0163752   1.0       0.0       0.0\n",
       "  0.621214  -0.374722   0.665546     0.305194   -0.746156  1.0       0.0\n",
       "  0.279159  -0.264935  -0.120677     0.374217   -0.666125  0.319299  1.0\n",
       "U factor:\n",
       "10×10 Array{Float64,2}:\n",
       " 1.35464  0.038165   0.536904  -1.33188  …  -1.44208   -0.0401047   1.25026 \n",
       " 0.0      1.7143    -0.316444  -1.21389      1.41465    1.06765    -0.24913 \n",
       " 0.0      0.0       -1.39517   -2.34801     -0.984273   0.635048    1.88087 \n",
       " 0.0      0.0        0.0        3.66455      0.784178   1.18904    -1.331   \n",
       " 0.0      0.0        0.0        0.0         -0.87718    1.21603    -0.326095\n",
       " 0.0      0.0        0.0        0.0      …   2.76532   -0.186867   -0.545077\n",
       " 0.0      0.0        0.0        0.0         -0.598603   1.50688    -0.520912\n",
       " 0.0      0.0        0.0        0.0          1.30073   -1.32743    -0.840156\n",
       " 0.0      0.0        0.0        0.0          0.0       -1.9024     -1.02334 \n",
       " 0.0      0.0        0.0        0.0          0.0        0.0        -0.364066"
      ]
     },
     "execution_count": 29,
     "metadata": {},
     "output_type": "execute_result"
    }
   ],
   "source": [
    "#Costo Computacional \n",
    "println(\"Costo Computacional - Algoritmo Implementado\")\n",
    "@time luCrout(A)\n",
    "println(\"Costo Computacional - Funcion de Libreria\")\n",
    "@time lu(A)"
   ]
  },
  {
   "cell_type": "code",
   "execution_count": 30,
   "metadata": {},
   "outputs": [
    {
     "name": "stdout",
     "output_type": "stream",
     "text": [
      "Tiempo de Ejecucion - Algoritmo Implementado\n",
      "  0.000012 seconds (6 allocations: 1.906 KiB)\n",
      "Tiempo de Ejecucion - Funcion de Libreria\n",
      "  0.000246 seconds (7 allocations: 1.219 KiB)\n"
     ]
    },
    {
     "data": {
      "text/plain": [
       "LU{Float64,Array{Float64,2}}\n",
       "L factor:\n",
       "10×10 Array{Float64,2}:\n",
       "  1.0        0.0        0.0       …  0.0         0.0       0.0       0.0\n",
       "  0.498361   1.0        0.0          0.0         0.0       0.0       0.0\n",
       " -0.621274  -0.20924    1.0          0.0         0.0       0.0       0.0\n",
       "  0.556392   0.813669   0.215415     0.0         0.0       0.0       0.0\n",
       " -0.269703  -0.770947  -0.423806     0.0         0.0       0.0       0.0\n",
       "  0.208165  -0.445069   0.618079  …  0.0         0.0       0.0       0.0\n",
       "  0.198068  -0.170939   0.817989     1.0         0.0       0.0       0.0\n",
       " -0.500811  -0.182488   0.317421     0.0163752   1.0       0.0       0.0\n",
       "  0.621214  -0.374722   0.665546     0.305194   -0.746156  1.0       0.0\n",
       "  0.279159  -0.264935  -0.120677     0.374217   -0.666125  0.319299  1.0\n",
       "U factor:\n",
       "10×10 Array{Float64,2}:\n",
       " 1.35464  0.038165   0.536904  -1.33188  …  -1.44208   -0.0401047   1.25026 \n",
       " 0.0      1.7143    -0.316444  -1.21389      1.41465    1.06765    -0.24913 \n",
       " 0.0      0.0       -1.39517   -2.34801     -0.984273   0.635048    1.88087 \n",
       " 0.0      0.0        0.0        3.66455      0.784178   1.18904    -1.331   \n",
       " 0.0      0.0        0.0        0.0         -0.87718    1.21603    -0.326095\n",
       " 0.0      0.0        0.0        0.0      …   2.76532   -0.186867   -0.545077\n",
       " 0.0      0.0        0.0        0.0         -0.598603   1.50688    -0.520912\n",
       " 0.0      0.0        0.0        0.0          1.30073   -1.32743    -0.840156\n",
       " 0.0      0.0        0.0        0.0          0.0       -1.9024     -1.02334 \n",
       " 0.0      0.0        0.0        0.0          0.0        0.0        -0.364066"
      ]
     },
     "execution_count": 30,
     "metadata": {},
     "output_type": "execute_result"
    }
   ],
   "source": [
    "#Costo Computacional \n",
    "println(\"Costo Computacional - Algoritmo Implementado\")\n",
    "@time luCrout(A)\n",
    "println(\"Costo Computacional - Funcion de Libreria\")\n",
    "@time lu(A)"
   ]
  },
  {
   "cell_type": "code",
   "execution_count": 31,
   "metadata": {},
   "outputs": [
    {
     "name": "stdout",
     "output_type": "stream",
     "text": [
      "Tiempo de Ejecucion - Algoritmo Implementado\n",
      "  0.000847 seconds (8 allocations: 156.563 KiB)\n",
      "Tiempo de Ejecucion - Funcion de Libreria\n",
      "  0.007006 seconds (8 allocations: 79.266 KiB)\n"
     ]
    },
    {
     "data": {
      "text/plain": [
       "LU{Float64,Array{Float64,2}}\n",
       "L factor:\n",
       "100×100 Array{Float64,2}:\n",
       "  1.0         0.0         0.0        …   0.0        0.0       0.0\n",
       "  0.553614    1.0         0.0            0.0        0.0       0.0\n",
       " -0.0298641  -0.519915    1.0            0.0        0.0       0.0\n",
       " -0.815413    0.751376    0.12508        0.0        0.0       0.0\n",
       "  0.661543    0.01537     0.185152       0.0        0.0       0.0\n",
       "  0.160602   -0.735242   -0.381766   …   0.0        0.0       0.0\n",
       "  0.0307791   0.783407   -0.28775        0.0        0.0       0.0\n",
       "  0.877754    0.264923   -0.47269        0.0        0.0       0.0\n",
       "  0.209523    0.785998    0.0778987      0.0        0.0       0.0\n",
       " -0.663316    0.344518    0.134445       0.0        0.0       0.0\n",
       " -0.0710074  -0.110186    0.542551   …   0.0        0.0       0.0\n",
       "  0.408645    0.314744    0.428686       0.0        0.0       0.0\n",
       " -0.7737      0.485503    0.510469       0.0        0.0       0.0\n",
       "  ⋮                                  ⋱                           \n",
       "  0.354514   -0.241198   -0.230129       0.0        0.0       0.0\n",
       " -0.419286   -0.187398    0.370423       0.0        0.0       0.0\n",
       "  0.0300833  -0.232954    0.0655431  …   0.0        0.0       0.0\n",
       " -0.451084    0.338205   -0.537036       0.0        0.0       0.0\n",
       " -0.107391    0.118258   -0.429216       0.0        0.0       0.0\n",
       " -0.182767    0.11698     0.404409       0.0        0.0       0.0\n",
       " -0.0752819  -0.0945602   0.915989       0.0        0.0       0.0\n",
       "  0.0288056  -0.18317     0.175403   …   0.0        0.0       0.0\n",
       " -0.597546   -0.377481    0.192449       0.0        0.0       0.0\n",
       " -0.990232   -0.264946    0.0968036      1.0        0.0       0.0\n",
       " -0.103244   -0.275362   -0.491711      -0.403419   1.0       0.0\n",
       "  0.0687002  -0.301811    0.798584       0.93344   -0.187023  1.0\n",
       "U factor:\n",
       "100×100 Array{Float64,2}:\n",
       " 1.97677  -0.0375234   0.0109096  …  -0.62203   -0.311142   -0.479285 \n",
       " 0.0      -2.42527     0.054368      -1.88306    1.84304     0.108192 \n",
       " 0.0       0.0        -2.66435        0.147015   1.15856     0.56569  \n",
       " 0.0       0.0         0.0           -0.512433  -0.293325   -0.39834  \n",
       " 0.0       0.0         0.0            1.03332   -0.0750023  -0.0804338\n",
       " 0.0       0.0         0.0        …  -1.72642    0.130399   -0.326942 \n",
       " 0.0       0.0         0.0            1.11787   -0.692416   -0.020449 \n",
       " 0.0       0.0         0.0            0.312138   2.12743    -0.618486 \n",
       " 0.0       0.0         0.0            0.863388  -0.753937    0.691167 \n",
       " 0.0       0.0         0.0           -2.42416   -1.07397    -1.20831  \n",
       " 0.0       0.0         0.0        …  -1.6986    -0.29195     0.211125 \n",
       " 0.0       0.0         0.0           -0.966622   0.332196   -1.10861  \n",
       " 0.0       0.0         0.0           -1.31671    0.655244   -1.00501  \n",
       " ⋮                                ⋱                                   \n",
       " 0.0       0.0         0.0            4.57529    2.26029     6.37321  \n",
       " 0.0       0.0         0.0           -1.77699   -0.982901   -0.898885 \n",
       " 0.0       0.0         0.0        …   2.9008     3.43176     0.144638 \n",
       " 0.0       0.0         0.0            3.67764    5.42745     0.230609 \n",
       " 0.0       0.0         0.0           -2.61546    0.896514    4.21566  \n",
       " 0.0       0.0         0.0           -2.41135   -0.95311    -5.27237  \n",
       " 0.0       0.0         0.0           -5.03121   -5.94806    -3.51774  \n",
       " 0.0       0.0         0.0        …  -3.45387   -2.89906    -0.34186  \n",
       " 0.0       0.0         0.0           -0.643597  -2.3332     -1.07025  \n",
       " 0.0       0.0         0.0            3.48059    2.50893     3.18111  \n",
       " 0.0       0.0         0.0            0.0        7.0958      4.463    \n",
       " 0.0       0.0         0.0            0.0        0.0        -3.83286  "
      ]
     },
     "execution_count": 31,
     "metadata": {},
     "output_type": "execute_result"
    }
   ],
   "source": [
    "#Costo Computacional\n",
    "println(\"Costo Computacional - Algoritmo Implementado\")\n",
    "@time luCrout(B)\n",
    "println(\"Costo Computacional - Funcion de Libreria\")\n",
    "@time lu(B)"
   ]
  },
  {
   "cell_type": "code",
   "execution_count": 32,
   "metadata": {},
   "outputs": [
    {
     "name": "stdout",
     "output_type": "stream",
     "text": [
      "Tiempo de Ejecucion - Algoritmo Implementado\n",
      "  1.381879 seconds (8 allocations: 15.259 MiB)\n",
      "Tiempo de Ejecucion - Funcion de Libreria\n",
      "  0.039819 seconds (8 allocations: 7.637 MiB)\n"
     ]
    },
    {
     "data": {
      "text/plain": [
       "LU{Float64,Array{Float64,2}}\n",
       "L factor:\n",
       "1000×1000 Array{Float64,2}:\n",
       "  1.0         0.0         0.0        …   0.0        0.0        0.0\n",
       "  0.108713    1.0         0.0            0.0        0.0        0.0\n",
       " -0.559846   -0.560647    1.0            0.0        0.0        0.0\n",
       "  0.088832    0.636843   -0.396097       0.0        0.0        0.0\n",
       " -0.233314    0.0597784  -0.262203       0.0        0.0        0.0\n",
       "  0.514831   -0.071823    0.4399     …   0.0        0.0        0.0\n",
       "  0.419491    0.618725   -0.795188       0.0        0.0        0.0\n",
       "  0.493557   -0.178329   -0.386859       0.0        0.0        0.0\n",
       " -0.0912327  -0.142706    0.103352       0.0        0.0        0.0\n",
       "  0.549888    0.0392015  -0.556573       0.0        0.0        0.0\n",
       " -0.317196    0.471087   -0.171653   …   0.0        0.0        0.0\n",
       " -0.146378    0.0951256  -0.380374       0.0        0.0        0.0\n",
       " -0.324428    0.876275   -0.502335       0.0        0.0        0.0\n",
       "  ⋮                                  ⋱                            \n",
       " -0.174601    0.0434222   0.0574768      0.0        0.0        0.0\n",
       " -0.506263    0.422802   -0.316398       0.0        0.0        0.0\n",
       "  0.319589    0.237229   -0.309074   …   0.0        0.0        0.0\n",
       " -0.3764      0.0868098  -0.149869       0.0        0.0        0.0\n",
       " -0.102776   -0.0482995   0.0863639      0.0        0.0        0.0\n",
       " -0.154575   -0.012441   -0.346412       0.0        0.0        0.0\n",
       " -0.104451   -0.073328   -0.517306       0.0        0.0        0.0\n",
       "  0.492363    0.105208   -0.0761358  …   0.0        0.0        0.0\n",
       " -0.276261    0.0115929   0.0428004      0.0        0.0        0.0\n",
       "  0.0329032   0.0699553   0.100946       1.0        0.0        0.0\n",
       "  0.158561   -0.138071    0.172192      -0.174149   1.0        0.0\n",
       " -0.0297081   0.254427   -0.583695       0.937364  -0.0868452  1.0\n",
       "U factor:\n",
       "1000×1000 Array{Float64,2}:\n",
       " -3.20924   0.345113  -0.621527   0.936645  …    0.725432    -0.836724 \n",
       "  0.0      -3.2127    -1.57702   -1.01417        1.49426      0.674643 \n",
       "  0.0       0.0       -3.6545    -0.285139      -0.19006     -0.0795006\n",
       "  0.0       0.0        0.0        3.42259       -1.66412      0.223794 \n",
       "  0.0       0.0        0.0        0.0            0.774421     1.25945  \n",
       "  0.0       0.0        0.0        0.0       …   -1.11279      2.11494  \n",
       "  0.0       0.0        0.0        0.0           -1.14685      2.04528  \n",
       "  0.0       0.0        0.0        0.0           -1.21003     -0.148468 \n",
       "  0.0       0.0        0.0        0.0            0.0604121   -0.233956 \n",
       "  0.0       0.0        0.0        0.0           -2.87231      1.93401  \n",
       "  0.0       0.0        0.0        0.0       …   -2.77186      3.67449  \n",
       "  0.0       0.0        0.0        0.0           -2.66105      2.29124  \n",
       "  0.0       0.0        0.0        0.0           -0.546487     0.859506 \n",
       "  ⋮                                         ⋱                          \n",
       "  0.0       0.0        0.0        0.0           -6.65376     -5.60375  \n",
       "  0.0       0.0        0.0        0.0           14.0823     -11.6455   \n",
       "  0.0       0.0        0.0        0.0       …   23.2693     -24.0943   \n",
       "  0.0       0.0        0.0        0.0          -12.8072      17.6954   \n",
       "  0.0       0.0        0.0        0.0          -12.3429      -0.817995 \n",
       "  0.0       0.0        0.0        0.0          -17.309       -7.31724  \n",
       "  0.0       0.0        0.0        0.0            8.30754      1.12738  \n",
       "  0.0       0.0        0.0        0.0       …  -19.0593      34.1498   \n",
       "  0.0       0.0        0.0        0.0           28.2168      -4.17575  \n",
       "  0.0       0.0        0.0        0.0           11.6122       0.688278 \n",
       "  0.0       0.0        0.0        0.0          -10.2734      16.3408   \n",
       "  0.0       0.0        0.0        0.0            0.0         13.5594   "
      ]
     },
     "execution_count": 32,
     "metadata": {},
     "output_type": "execute_result"
    }
   ],
   "source": [
    "#Costo Computacional\n",
    "println(\"Costo Computacional - Algoritmo Implementado\")\n",
    "@time luCrout(C)\n",
    "println(\"Costo Computacional - Funcion de Libreria\")\n",
    "@time lu(C)"
   ]
  },
  {
   "cell_type": "code",
   "execution_count": null,
   "metadata": {},
   "outputs": [],
   "source": [
    "#Costo Computacional\n",
    "println(\"Costo Computacional - Algoritmo Implementado\")\n",
    "@time luCrout(D)\n",
    "println(\"Costo Computacional - Funcion de Libreria\")\n",
    "@time lu(D)"
   ]
  },
  {
   "cell_type": "markdown",
   "metadata": {},
   "source": [
    "### Explicacion General del metodo de Factorizacion\n",
    "\n",
    "http://esfm.egormaximenko.com/numerical_analysis1.html#partcg"
   ]
  },
  {
   "cell_type": "code",
   "execution_count": null,
   "metadata": {},
   "outputs": [],
   "source": []
  }
 ],
 "metadata": {
  "kernelspec": {
   "display_name": "Julia 1.3.0",
   "language": "julia",
   "name": "julia-1.3"
  },
  "language_info": {
   "file_extension": ".jl",
   "mimetype": "application/julia",
   "name": "julia",
   "version": "1.3.0"
  }
 },
 "nbformat": 4,
 "nbformat_minor": 2
}
