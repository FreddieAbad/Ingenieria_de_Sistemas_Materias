{
 "cells": [
  {
   "cell_type": "markdown",
   "metadata": {
    "id": "70-CJqVtR-SI"
   },
   "source": [
    "**Integrantes:**\n",
    "- Freddy Abad\n",
    "- Edisson Reinozo\n",
    "\n",
    "Este taller se desarrollo en Google Colab, si desea revisarlo, esta disponible en el siguiente link:\n",
    "https://colab.research.google.com/drive/13ce0ZRGytvovk3kNMy7NAffzzRm2A0ai?usp=sharing"
   ]
  },
  {
   "cell_type": "markdown",
   "metadata": {
    "id": "z_Y4cF5Ddf9V"
   },
   "source": [
    "# Sesión 2"
   ]
  },
  {
   "cell_type": "markdown",
   "metadata": {
    "id": "YVXoPfbtdf9b"
   },
   "source": [
    "Esta sesión estará centrada mayormente en el análisis de distancias/similitudes entre textos; además, en cómo realizar extracción de información en base a consultas.\n",
    "\n",
    "Lineamientos generales:\n",
    "- Responder a detalle las preguntas planteadas a lo largo del este documento\n",
    "- Sólo mostrar en pantalla los resultados finales (los resultados intermedios no deberán mostrarse, ya que no son informativos)\n",
    "- Si cuando corre su código obtiene cientos de líneas de warnings, deberá confirugar su notebook para que no muestre estos mensajes (esto dificulta tremendamente la revisión de los trabajos)\n"
   ]
  },
  {
   "cell_type": "code",
   "execution_count": null,
   "metadata": {
    "id": "he_t-WUS7GqV"
   },
   "outputs": [],
   "source": [
    "import warnings\n",
    "warnings.filterwarnings('ignore')"
   ]
  },
  {
   "cell_type": "markdown",
   "metadata": {
    "id": "VwvQbgZrdf9c"
   },
   "source": [
    "## Ejercicio 1"
   ]
  },
  {
   "cell_type": "markdown",
   "metadata": {
    "id": "eQaxDHTqdf9c"
   },
   "source": [
    "Considerando una representación vectorial de los siguientes documentos:\n",
    "\n",
    "`docA = [0, 2, 3, 1]`<br>\n",
    "`docB = [1, 2, 3, 5]`<br>\n",
    "`docC = [1, 1, 2, 2]`<br>\n",
    "\n",
    "y una consulta `query = [1, 1, 3, 4]`\n",
    "\n",
    "Calcule la distancia entre la consulta `query` y cada uno de los documentos usando las siguientes distancias:\n",
    "\n",
    "- euclidiana ($d_e$)\n",
    "- coseno ($d_c$)\n",
    "- pearson correlation $d_r$\n",
    "\n",
    "Todas las distancias deberán ser implementadas manualmente en base a las siguientes formulaciones:\n",
    "- $d_e = \\sqrt { \\sum_{i=1}^{n} (x_i - y_i)^2 }$\n",
    "- $d_c = \\frac { \\sum_{i=1}^{n} x_i y_i} { \\sqrt {\\sum_{i=1}^{n} x_i^2} \\sqrt {\\sum_{i=1}^{n}} y_i^2}$\n",
    "- $d_r = \\frac {\\sum_{i=1}^{n} (x_i - \\bar x)(y_i - \\bar y)} { \\sqrt{\\sum_{i=1}^{n} (x_i - \\bar x)^2} \\sqrt{\\sum_{i=1}^{n} (y_i - \\bar y)^2} }$"
   ]
  },
  {
   "cell_type": "code",
   "execution_count": null,
   "metadata": {
    "id": "AQluN0Lydf9d"
   },
   "outputs": [],
   "source": [
    "# implemente su código aquí\n",
    "import numpy as np\n",
    "\n",
    "docA = [0, 2, 3, 1]\n",
    "docB = [1, 2, 3, 5]\n",
    "docC = [1, 1, 2, 2]\n",
    "\n",
    "query = [1, 1, 3, 4]\n",
    "\n",
    "\n",
    "# Distancia euclidiana\n",
    "def distancia_euclidiana(doc, query):\n",
    "    sum = 0\n",
    "\n",
    "    for i in range(len(doc)):\n",
    "        sum += (doc[i] - query[i]) ** 2\n",
    "    \n",
    "    return np.sqrt(sum)\n",
    "\n",
    "\n",
    "# Distancia coseno\n",
    "def distancia_coseno(doc, query):\n",
    "    sum_doc_query  = 0\n",
    "\n",
    "    for i in range(len(doc)):\n",
    "        sum_doc_query += (doc[i] * query[i])\n",
    "  \n",
    "\n",
    "    sum_doc_squeared = np.sqrt(np.sum(np.square(doc)))\n",
    "    sum_query_squeared = np.sqrt(np.sum(np.square(query)))\n",
    "\n",
    "    return (sum_doc_query) / (sum_doc_squeared * sum_query_squeared)\n",
    "\n",
    "\n",
    "# Correlación de Pearson\n",
    "def correlacion_pearson(doc, query):\n",
    "    doc_mean =  np.mean(doc)\n",
    "    query_mean = np.mean(query)\n",
    "\n",
    "    sum_1 = 0\n",
    "    for i in range(len(doc)):\n",
    "        sum_1 += (doc[i] - doc_mean)*(query[i] - query_mean)\n",
    "  \n",
    "    sum_2 = 0\n",
    "    for i in range(len(doc)):\n",
    "        sum_2 += (doc[i] - doc_mean) ** 2\n",
    "    sum_2 =  np.sqrt(sum_2)\n",
    "\n",
    "    sum_3 = 0\n",
    "    for i in range(len(query)):\n",
    "        sum_3 += (query[i] - query_mean) ** 2\n",
    "    sum_3 =  np.sqrt(sum_3)\n",
    "\n",
    "    return sum_1 / (sum_2 * sum_3)"
   ]
  },
  {
   "cell_type": "code",
   "execution_count": null,
   "metadata": {
    "colab": {
     "base_uri": "https://localhost:8080/"
    },
    "id": "4DqZ_AtXibXy",
    "outputId": "dced64c6-6ed1-448a-9889-4bf5f60aa12a"
   },
   "outputs": [
    {
     "name": "stdout",
     "output_type": "stream",
     "text": [
      "Distancia euclidiana\n",
      "query - docA:  3.3166247903554\n",
      "query - docB:  1.4142135623730951\n",
      "query - docC:  2.23606797749979\n",
      "\n",
      "Distancia coseno\n",
      "query - docA:  0.7715167498104595\n",
      "query - docB:  0.9861336821781851\n",
      "query - docC:  0.9737289911202951\n",
      "\n",
      "Correlación de Pearson\n",
      "query - docA:  0.2581988897471611\n",
      "query - docB:  0.9433700705169153\n",
      "query - docC:  0.9622504486493763\n"
     ]
    }
   ],
   "source": [
    "# Distancia euclidiana\n",
    "print('Distancia euclidiana')\n",
    "print('query - docA: ', distancia_euclidiana(docA, query))\n",
    "print('query - docB: ', distancia_euclidiana(docB, query))\n",
    "print('query - docC: ', distancia_euclidiana(docC, query))\n",
    "\n",
    "# Distancia coseno\n",
    "print('\\nDistancia coseno')\n",
    "print('query - docA: ', distancia_coseno(docA, query))\n",
    "print('query - docB: ', distancia_coseno(docB, query))\n",
    "print('query - docC: ', distancia_coseno(docC, query))\n",
    "\n",
    "# Correlación de Pearson\n",
    "print('\\nCorrelación de Pearson')\n",
    "print('query - docA: ', correlacion_pearson(docA, query))\n",
    "print('query - docB: ', correlacion_pearson(docB, query))\n",
    "print('query - docC: ', correlacion_pearson(docC, query))\n",
    "\n"
   ]
  },
  {
   "cell_type": "markdown",
   "metadata": {
    "id": "mYanUgbWdf9d"
   },
   "source": [
    "Realice los mismos cálculos del punto anterior, pero esta vez utilice los siguientes paquetes `sklearn.metrics.pairwise.euclidean_distances` ($d_e$), `sklearn.metrics.pairwise.cosine_similarity` ($d_c$), y `scipy import stats.pearsonr` ($d_r$). Nota: Los resultados deberían ser los mismos."
   ]
  },
  {
   "cell_type": "code",
   "execution_count": null,
   "metadata": {
    "colab": {
     "base_uri": "https://localhost:8080/"
    },
    "id": "a169JDLgdf9e",
    "outputId": "1310ec74-7a28-42e1-de04-f677bfe58a04"
   },
   "outputs": [
    {
     "name": "stdout",
     "output_type": "stream",
     "text": [
      "Distancia euclidiana\n",
      "query - docA:  3.3166247903554\n",
      "query - docB:  1.4142135623730951\n",
      "query - docC:  2.23606797749979\n",
      "\n",
      "Distancia coseno\n",
      "query - docA:  0.7715167498104596\n",
      "query - docB:  0.9861336821781851\n",
      "query - docC:  0.9737289911202953\n",
      "\n",
      "Correlación de Pearson\n",
      "query - docA:  0.2581988897471611\n",
      "query - docB:  0.9433700705169155\n",
      "query - docC:  0.9622504486493761\n"
     ]
    }
   ],
   "source": [
    "docA = [0, 2, 3, 1]\n",
    "docB = [1, 2, 3, 5]\n",
    "docC = [1, 1, 2, 2]\n",
    "query = [1, 1, 3, 4]\n",
    "# implemente su código aquí\n",
    "from sklearn.metrics.pairwise import euclidean_distances\n",
    "from sklearn.metrics.pairwise import cosine_similarity\n",
    "from scipy import stats\n",
    "from scipy.stats.stats import pearsonr\n",
    "\n",
    "# Distancia euclidiana\n",
    "print('Distancia euclidiana')\n",
    "print('query - docA: ', euclidean_distances([docA], [query])[0][0])\n",
    "print('query - docB: ', euclidean_distances([docB], [query])[0][0])\n",
    "print('query - docC: ', euclidean_distances([docC], [query])[0][0])\n",
    "# Distancia coseno\n",
    "print('\\nDistancia coseno')\n",
    "print('query - docA: ', cosine_similarity([docA], [query])[0][0])\n",
    "print('query - docB: ', cosine_similarity([docB], [query])[0][0])\n",
    "print('query - docC: ', cosine_similarity([docC], [query])[0][0])\n",
    "# Correlación de Pearson\n",
    "print('\\nCorrelación de Pearson')\n",
    "print('query - docA: ', stats.pearsonr(docA, query)[0])\n",
    "print('query - docB: ', stats.pearsonr(docB, query)[0])\n",
    "print('query - docC: ', stats.pearsonr(docC, query)[0])"
   ]
  },
  {
   "cell_type": "markdown",
   "metadata": {
    "id": "-e4kdB3kdf9e"
   },
   "source": [
    "¿Cuales es el rankeo de documentos usando las distintas medidas de distancia?"
   ]
  },
  {
   "cell_type": "markdown",
   "metadata": {
    "id": "Uvn9ELf5l8bm"
   },
   "source": [
    "Si se ranquea basado en que mientras más similar es un documento es mejor. Entonces debemos ranquear de menor a mayor:\n",
    "\n",
    "*Distancia euclidiana:*\n",
    "\n",
    "query - docB:  1.4142135623730951\n",
    "\n",
    "query - docC:  2.23606797749979\n",
    "\n",
    "query - docA:  3.3166247903554\n",
    "\n",
    "\n",
    "\n",
    "*Distancia coseno:*\n",
    "\n",
    "query - docA:  0.7715167498104595\n",
    "\n",
    "query - docC:  0.9737289911202951 \n",
    "\n",
    "query - docB:  0.9861336821781851\n",
    "\n",
    "\n",
    "\n",
    "*Correlación de Pearson:*\n",
    "\n",
    "query - docA:  0.2581988897471611\n",
    "\n",
    "query - docB:  0.9433700705169153\n",
    "\n",
    "query - docC:  0.9622504486493763\n",
    "\n",
    "\n",
    "<br>\n",
    "\n",
    "Se puede observar que el orden de los documentos **NO** es el mismo utilizando las distintas distancias."
   ]
  },
  {
   "cell_type": "markdown",
   "metadata": {
    "id": "RFHYBJzwdf9f"
   },
   "source": [
    "## Ejercicio 2"
   ]
  },
  {
   "cell_type": "markdown",
   "metadata": {
    "id": "sQlNpg6Edf9f"
   },
   "source": [
    "El código a continuación extrae el contenido de 10 páginas web. El contenido de estas páginas, luego de todo este proces, es únicamente una lista con los textos en claro."
   ]
  },
  {
   "cell_type": "code",
   "execution_count": null,
   "metadata": {
    "id": "AHucg_B8df9f"
   },
   "outputs": [],
   "source": [
    "import re\n",
    "import string\n",
    "import requests\n",
    "import numpy as np\n",
    "import pandas as pd\n",
    "from bs4 import BeautifulSoup\n",
    "from sklearn.feature_extraction.text import TfidfVectorizer\n",
    "\n",
    "def retrieve_docs_and_clean():\n",
    "    r = requests.get('https://www.nme.com/?s=muse')\n",
    "    soup = BeautifulSoup(r.content, 'html.parser')\n",
    "\n",
    "    link = []\n",
    "    for i in soup.find('div', {'class': 'td_block_inner tdb-block-inner td-fix-index'}).find_all('a'):\n",
    "        i['href'] = i['href'] + '?page=all'\n",
    "        link.append(i['href'])\n",
    "\n",
    "    link = list(np.unique(link))\n",
    "\n",
    "    # Retrieve Paragraphs\n",
    "    documents = []\n",
    "    for i in link:\n",
    "        r = requests.get(i)\n",
    "        soup = BeautifulSoup(r.content, 'html.parser')\n",
    "\n",
    "        sen = []\n",
    "        for i in soup.find_all('p'):\n",
    "            sen.append(i.text)\n",
    "        documents.append(' '.join(sen))\n",
    "\n",
    "    # Clean Paragraphs\n",
    "    documents_clean = []\n",
    "    for d in documents:\n",
    "        document_test = re.sub(r'[^\\x00-\\x7F]+', ' ', d)\n",
    "        document_test = re.sub(r'@\\w+', '', document_test)\n",
    "        document_test = document_test.lower()\n",
    "        document_test = re.sub(r'[%s]' % re.escape(string.punctuation), ' ', document_test)\n",
    "        document_test = re.sub(r'[0-9]', '', document_test)\n",
    "        document_test = re.sub(r'\\s{2,}', ' ', document_test)\n",
    "        documents_clean.append(document_test)\n",
    "\n",
    "    return documents_clean\n",
    "\n",
    "docs = retrieve_docs_and_clean()"
   ]
  },
  {
   "cell_type": "markdown",
   "metadata": {
    "id": "QMYC-fjMdf9g"
   },
   "source": [
    "\n",
    "En base a los documentos encontrados, ejecute los proceso de:\n",
    "- stop word removal\n",
    "- representación TF-IDF para los documentos"
   ]
  },
  {
   "cell_type": "code",
   "execution_count": null,
   "metadata": {
    "colab": {
     "base_uri": "https://localhost:8080/"
    },
    "id": "8Jp5IISZdf9g",
    "outputId": "ca9fcc37-7848-411c-dc9e-d697fea6e4dd"
   },
   "outputs": [
    {
     "name": "stdout",
     "output_type": "stream",
     "text": [
      "[nltk_data] Downloading package stopwords to /root/nltk_data...\n",
      "[nltk_data]   Package stopwords is already up-to-date!\n"
     ]
    }
   ],
   "source": [
    "# Eliminar stop words\n",
    "\n",
    "import nltk\n",
    "from nltk.corpus import stopwords\n",
    "nltk.download('stopwords')\n",
    "\n",
    "\n",
    "stop_words = set(stopwords.words('english')) \n",
    "\n",
    "filtered_docs = []\n",
    "for doc in docs:\n",
    "    word_tokens =  doc.split(' ')\n",
    "    filtered_doc = []   \n",
    "    for w in word_tokens: \n",
    "        if w not in stop_words: \n",
    "            filtered_doc.append(w) \n",
    "    filtered_docs.append(filtered_doc)\n",
    "\n",
    "# Transformamos la matriz de tokens a un arreglo de strigs\n",
    "corpus = []\n",
    "for filtered_doc in filtered_docs:\n",
    "    corpus.append(' '.join(filtered_doc))\n",
    "\n",
    "# print(corpus[0][:100])"
   ]
  },
  {
   "cell_type": "code",
   "execution_count": null,
   "metadata": {
    "id": "FlNdTBjfpMFn"
   },
   "outputs": [],
   "source": [
    "# Representación TF-IDF\n",
    "from sklearn.feature_extraction.text import TfidfVectorizer\n",
    "\n",
    "vectorizer = TfidfVectorizer()\n",
    "X = vectorizer.fit_transform(corpus)\n",
    "\n",
    "# print(vectorizer.get_feature_names()[:10])"
   ]
  },
  {
   "cell_type": "markdown",
   "metadata": {
    "id": "0s_SnDqydf9g"
   },
   "source": [
    "Teniendo como base la representación del punto anterior, calcule la distancia euclidiana y de coseno de los documentos con respecto a las siguientes consultas:\n",
    "- q1 = 'muse'\n",
    "- q2 = 'muse nandi'\n",
    "- q3 = 'muse mcgregor ewan'\n",
    "\n",
    "Muestre los resultados. ¿Ambas métricas de distancia llegaron a la misma conclusión?. Elabore su respuesta."
   ]
  },
  {
   "cell_type": "markdown",
   "metadata": {
    "id": "pMuRdlQHdf9h"
   },
   "source": [
    "Muestre los primeros 400 caracteres del resultado más relevante (usando la distancia de coseno) para cada consulta. ¿Los resultados son relevantes?. Elabore su respuesta."
   ]
  },
  {
   "cell_type": "code",
   "execution_count": null,
   "metadata": {
    "colab": {
     "base_uri": "https://localhost:8080/"
    },
    "id": "3AyM5b5gdf9h",
    "outputId": "dcbd5cf6-d811-4656-f41e-47eefbd57c79"
   },
   "outputs": [
    {
     "name": "stdout",
     "output_type": "stream",
     "text": [
      "Distancias euclidianas:  [1.295670733007149, 1.3227231202553762, 1.414213562373095, 1.357419815253989, 1.283216410698004, 1.2681732922870697, 1.3255886190062074, 1.414213562373095, 1.414213562373095, 1.354130117208392]\n",
      "Doc:  the film will blur the lines between narrative and concert film virtual and reality muse have announced details of their anticipated new live film with simulation theory hitting the imax screen and being released as a special box set later this year see the trailer and details below based on the story and themes of their album simulation theory the movie has been teased as the devonshire trio s ow\n",
      "Distancias euclidianas:  [0.16061867581435804, 0.1252017735709408, 0.0, 0.07870572257791257, 0.17667782165766582, 0.19586825036488673, 0.12140740658060803, 0.0, 0.0, 0.08316581283459186]\n",
      "Doc:  the world s defining voice in music and pop culture since nme is a member of the media division of bandlab technologies \n"
     ]
    }
   ],
   "source": [
    "# q1 = 'muse'\n",
    "q1 = 'muse'\n",
    "query_vector = vectorizer.transform([q1])\n",
    "\n",
    "# Distancia euclidiana\n",
    "eucleadian_distances = []\n",
    "for i in range(10):\n",
    "    distance = euclidean_distances(X[i], query_vector)\n",
    "    eucleadian_distances.append(distance[0][0])\n",
    "\n",
    "min_distance_index = eucleadian_distances.index(min(eucleadian_distances))\n",
    "print('Distancias euclidianas: ', eucleadian_distances)\n",
    "print('Doc: ', docs[min_distance_index][:400])\n",
    "\n",
    "# Similitud de coseno\n",
    "cosine_distances = []\n",
    "for i in range(10):\n",
    "    distance = cosine_similarity(X[i], query_vector)\n",
    "    cosine_distances.append(distance[0][0])\n",
    "\n",
    "min_distance_index = cosine_distances.index(min(cosine_distances)) \n",
    "\n",
    "print('Distancias euclidianas: ', cosine_distances)\n",
    "print('Doc: ', docs[min_distance_index][:400])"
   ]
  },
  {
   "cell_type": "code",
   "execution_count": null,
   "metadata": {
    "colab": {
     "base_uri": "https://localhost:8080/"
    },
    "id": "xukCfltrvAKW",
    "outputId": "f0395299-ba24-4d60-b86a-ea31aae2dfa1"
   },
   "outputs": [
    {
     "name": "stdout",
     "output_type": "stream",
     "text": [
      "Doc:   absolutely killed it again nandi bushell so much talent year old rock prodigy nandi bushell has performed another rock cover this time of muse s single hysteria from their album absolution bushell originally shared a drum cover of the song back in july but this time around the multi instrumentalist added the song s frenetic bass line into the mix ever since i jammed hysteria by muse on drums i wa\n",
      "Doc:  the world s defining voice in music and pop culture since nme is a member of the media division of bandlab technologies \n"
     ]
    }
   ],
   "source": [
    "# q1 = 'muse nandi'\n",
    "q2 = 'muse nandi'\n",
    "query_vector = vectorizer.transform([q2])\n",
    "\n",
    "# Distancia euclidiana\n",
    "eucleadian_distances = []\n",
    "for i in range(10):\n",
    "    distance = euclidean_distances(X[i], query_vector)\n",
    "    eucleadian_distances.append(distance[0][0])\n",
    "\n",
    "min_distance_index = eucleadian_distances.index(min(eucleadian_distances)) \n",
    "print('Doc: ', docs[min_distance_index][:400])\n",
    "\n",
    "# Similitud de coseno\n",
    "cosine_distances = []\n",
    "for i in range(10):\n",
    "    distance = cosine_similarity(X[i], query_vector)\n",
    "    cosine_distances.append(distance)\n",
    "\n",
    "min_distance_index = cosine_distances.index(min(cosine_distances)) \n",
    "print('Doc: ', docs[min_distance_index][:400])"
   ]
  },
  {
   "cell_type": "code",
   "execution_count": null,
   "metadata": {
    "colab": {
     "base_uri": "https://localhost:8080/"
    },
    "id": "Yiysml6TvAUD",
    "outputId": "46dc5552-a2ac-4501-e74f-99efc58bdd4a"
   },
   "outputs": [
    {
     "name": "stdout",
     "output_type": "stream",
     "text": [
      "Doc:  the cover appears in mcgregor s new tv show long way up footage has emerged of ewan mcgregor covering muse track endlessly the footage which sees the star wars actor playing the song on acoustic guitar is taken from his new apple tv show long way up long way up is the sequel to long way down and long way round which see mcgregor and broadcaster charley boorman travelling the world on motorcycles t\n",
      "Doc:  the world s defining voice in music and pop culture since nme is a member of the media division of bandlab technologies \n"
     ]
    }
   ],
   "source": [
    "# q3 = 'muse mcgregor ewan'\n",
    "q3 = 'muse mcgregor ewan'\n",
    "query_vector = vectorizer.transform([q3])\n",
    "\n",
    "# Distancia euclidiana\n",
    "eucleadian_distances = []\n",
    "for i in range(10):\n",
    "    distance = euclidean_distances(X[i], query_vector)\n",
    "    eucleadian_distances.append(distance[0][0])\n",
    "\n",
    "min_distance_index = eucleadian_distances.index(min(eucleadian_distances)) \n",
    "print('Doc: ', docs[min_distance_index][:400])\n",
    "\n",
    "# Similitud de coseno\n",
    "cosine_distances = []\n",
    "for i in range(10):\n",
    "    distance = cosine_similarity(X[i], query_vector)\n",
    "    cosine_distances.append(distance)\n",
    "\n",
    "min_distance_index = cosine_distances.index(min(cosine_distances)) \n",
    "print('Doc: ', docs[min_distance_index][:400])"
   ]
  },
  {
   "cell_type": "markdown",
   "metadata": {
    "id": "NtPa0T2Udf9h"
   },
   "source": [
    "## Ejercicio 3"
   ]
  },
  {
   "cell_type": "markdown",
   "metadata": {
    "id": "FTR9zMnhdf9h"
   },
   "source": [
    "Partiendo de una matriz de términos y documentos `C`, donde las filas representan diferentes términos y las columnas los documentos donde estas se encuentran (se utilizará una representación simple de bag of words), ejecute `SVD` y muestre las matrices resultantes y sus tamaños.\n",
    "\n",
    "$C = U  \\Sigma V$"
   ]
  },
  {
   "cell_type": "markdown",
   "metadata": {
    "id": "1GvSompgpTVJ"
   },
   "source": [
    "> **MATRICES RESULTANTES**\n",
    "\n",
    "La funcion SVD que provee Scipy [(Documentacion)](https://docs.scipy.org/doc/scipy/reference/generated/scipy.linalg.svd.html) retorna las siguientes matrices: \n",
    "- **U**: Matriz unitaria que ha dejado vectores singulares como columnas. De forma (M, M) o (M, K).\n",
    "\n",
    "- **s**: Valores singulares, ordenados en orden no creciente. De forma (K,), con K = min (M, N).\n",
    "\n",
    "- **Vh**: Matriz unitaria que tiene vectores singulares rectos como filas. De forma (N, N) o (K, N) dependiendo de full_matrices."
   ]
  },
  {
   "cell_type": "code",
   "execution_count": null,
   "metadata": {
    "colab": {
     "base_uri": "https://localhost:8080/"
    },
    "id": "jkOHiJGRdf9i",
    "outputId": "2f20df80-08c8-4d29-c6c8-93e932de7d58"
   },
   "outputs": [
    {
     "name": "stdout",
     "output_type": "stream",
     "text": [
      "[[1 0 1 0 0 0]\n",
      " [0 1 0 0 0 0]\n",
      " [1 1 0 0 0 0]\n",
      " [1 0 0 1 1 0]\n",
      " [0 0 0 1 0 1]]\n",
      "(5, 6)\n",
      "\n",
      "\tU \n",
      "Tamano: (5, 5)\n",
      "[[ 4.40347480e-01 -2.96174360e-01 -5.69497581e-01  5.77350269e-01\n",
      "  -2.46402144e-01]\n",
      " [ 1.29346349e-01 -3.31450692e-01  5.87021697e-01  1.11022302e-16\n",
      "  -7.27197008e-01]\n",
      " [ 4.75530263e-01 -5.11115242e-01  3.67689978e-01  1.11022302e-16\n",
      "   6.14358412e-01]\n",
      " [ 7.03020318e-01  3.50572409e-01 -1.54905878e-01 -5.77350269e-01\n",
      "  -1.59788154e-01]\n",
      " [ 2.62672838e-01  6.46746769e-01  4.14591704e-01  5.77350269e-01\n",
      "   8.66139898e-02]]\n",
      "\n",
      "\ts \n",
      "Tamano: (5,)\n",
      "[2.16250096 1.59438237 1.27529025 1.         0.39391525]\n",
      "\n",
      "\tVh \n",
      "Tamano: (6, 6)\n",
      "[[ 7.48623048e-01  2.79711603e-01  2.03628802e-01  4.46563110e-01\n",
      "   3.25095956e-01  1.21467154e-01]\n",
      " [-2.86453991e-01 -5.28459139e-01 -1.85761186e-01  6.25520701e-01\n",
      "   2.19879758e-01  4.05640944e-01]\n",
      " [-2.79711603e-01  7.48623048e-01 -4.46563110e-01  2.03628802e-01\n",
      "  -1.21467154e-01  3.25095956e-01]\n",
      " [-4.99600361e-16  2.22044605e-16  5.77350269e-01  1.38777878e-16\n",
      "  -5.77350269e-01  5.77350269e-01]\n",
      " [ 5.28459139e-01 -2.86453991e-01 -6.25520701e-01 -1.85761186e-01\n",
      "  -4.05640944e-01  2.19879758e-01]\n",
      " [ 1.33181424e-16 -1.20504739e-16 -1.33181424e-16 -5.77350269e-01\n",
      "   5.77350269e-01  5.77350269e-01]]\n"
     ]
    }
   ],
   "source": [
    "import numpy as np\n",
    "from numpy import array\n",
    "from scipy.linalg import svd\n",
    "\n",
    "c = np.array([[1,0,1,0,0,0], \n",
    "              [0,1,0,0,0,0], \n",
    "              [1,1,0,0,0,0,], \n",
    "              [1,0,0,1,1,0], \n",
    "              [0,0,0,1,0,1,]])\n",
    "print(c)\n",
    "print(c.shape)\n",
    "\n",
    "# SVD\n",
    "U, s, Vh = svd(c)\n",
    "print(\"\\n\\tU \\nTamano:\",U.shape)\n",
    "print(U)\n",
    "print(\"\\n\\ts \\nTamano:\",s.shape)\n",
    "print(s)\n",
    "print(\"\\n\\tVh \\nTamano:\",Vh.shape)\n",
    "print(Vh)\n"
   ]
  },
  {
   "cell_type": "markdown",
   "metadata": {
    "id": "J5JLRhGfdf9i"
   },
   "source": [
    "Reconstruya la matriz original `C` en base a las matrices producidas de la descomposición usando `SVD`. Si la matriz resultante es la misma que la matriz original, el proceso de descomposición y recomposición se realizó de forma correcta."
   ]
  },
  {
   "cell_type": "code",
   "execution_count": null,
   "metadata": {
    "colab": {
     "base_uri": "https://localhost:8080/"
    },
    "id": "GaldznK3uEQ7",
    "outputId": "c2508278-9518-4d1b-b115-942f143d19f6"
   },
   "outputs": [
    {
     "name": "stdout",
     "output_type": "stream",
     "text": [
      "\n",
      "Matriz Original\n",
      " [[1 0 1 0 0 0]\n",
      " [0 1 0 0 0 0]\n",
      " [1 1 0 0 0 0]\n",
      " [1 0 0 1 1 0]\n",
      " [0 0 0 1 0 1]]\n",
      "\n",
      "Matriz Reconstruida \n",
      " [[ 1.00000000e+00 -1.10211210e-16  1.00000000e+00 -1.03544862e-16\n",
      "  -1.11698825e-16 -1.28003283e-16]\n",
      " [-1.06214401e-16  1.00000000e+00 -1.56768874e-16  1.29610468e-17\n",
      "   2.82278792e-16 -1.87961308e-16]\n",
      " [ 1.00000000e+00  1.00000000e+00 -5.98501664e-16  2.33629991e-16\n",
      "  -9.60126816e-17  5.98016761e-17]\n",
      " [ 1.00000000e+00  2.77950685e-16 -1.07955488e-15  1.00000000e+00\n",
      "   1.00000000e+00  3.34467685e-17]\n",
      " [-6.77272021e-16  1.42702832e-16 -3.90463141e-16  1.00000000e+00\n",
      "   5.93743884e-17  1.00000000e+00]]\n",
      "\n",
      "Matriz Reconstruida y Redondeada\n",
      " [[ 1.e+00 -0.e+00  1.e+00 -0.e+00 -0.e+00 -0.e+00]\n",
      " [-0.e+00  1.e+00 -0.e+00  0.e+00  0.e+00 -0.e+00]\n",
      " [ 1.e+00  1.e+00 -1.e-15  0.e+00 -0.e+00  0.e+00]\n",
      " [ 1.e+00  0.e+00 -1.e-15  1.e+00  1.e+00  0.e+00]\n",
      " [-1.e-15  0.e+00 -0.e+00  1.e+00  0.e+00  1.e+00]]\n",
      "\n",
      "¿Son iguales? True\n",
      "Nota: El proceso de deconstruccion y  reconstruccion de la matriz genera cifras decimales con exponenciales (debido al Estandar IEEE 754 - Punto flotante)\n"
     ]
    }
   ],
   "source": [
    "# Reconstruccion de matriz\n",
    "m, n = 5, 6\n",
    "sigma = np.zeros((m, n))\n",
    "for i in range(min(m, n)):\n",
    "    sigma[i, i] = s[i]\n",
    "a1 = np.dot(U, np.dot(sigma, Vh))\n",
    "print(\"\\nMatriz Original\\n\", c)\n",
    "print(\"\\nMatriz Reconstruida \\n\",a1)\n",
    "print(\"\\nMatriz Reconstruida y Redondeada\\n\",np.around(a1, 15))\n",
    "print(\"\\n¿Son iguales?\",np.allclose(c, a1))\n",
    "print(\"Nota: El proceso de deconstruccion y  reconstruccion de la matriz genera cifras decimales con exponenciales (debido al Estandar IEEE 754 - Punto flotante)\")"
   ]
  },
  {
   "cell_type": "markdown",
   "metadata": {
    "id": "I09MaRRzdf9i"
   },
   "source": [
    "Genere una matriz $C_k, k=2$ (matriz reducida utilizando 2 componentes). Para ello, deberá utilizar los `k` componentes principales de las matrices $U, \\Sigma, V$.\n",
    "\n",
    "$C_k = U_k \\Sigma_k V_k$\n",
    "\n"
   ]
  },
  {
   "cell_type": "code",
   "execution_count": null,
   "metadata": {
    "colab": {
     "base_uri": "https://localhost:8080/"
    },
    "id": "PCMorn1wdf9i",
    "outputId": "5422c9b5-e6c9-4f20-86d3-787c1c006283"
   },
   "outputs": [
    {
     "name": "stdout",
     "output_type": "stream",
     "text": [
      "C\n",
      " [[1 0 1 0 0 0]\n",
      " [0 1 0 0 0 0]\n",
      " [1 1 0 0 0 0]\n",
      " [1 0 0 1 1 0]\n",
      " [0 0 0 1 0 1]]\n",
      "\n",
      "C_k\n",
      " [[ 0.8481456   0.51590232]\n",
      " [ 0.36077778  0.35750764]\n",
      " [ 1.00327014  0.71828543]\n",
      " [ 0.97800578  0.12986018]\n",
      " [ 0.12986018 -0.38604214]]\n"
     ]
    }
   ],
   "source": [
    "# Calculo de Ck\n",
    "from numpy import array\n",
    "print(\"C\\n\",c)\n",
    "ck = np.dot(U[:,[0,1]], np.dot(sigma[[0,1],:], Vh[:,[0,1]]))\n",
    "print(\"\\nC_k\\n\",ck)"
   ]
  },
  {
   "cell_type": "markdown",
   "metadata": {
    "id": "6oEsC0u54bYz"
   },
   "source": [
    "> **¿La matriz generada ($C_k$) difiere de la original ($C$)?.** \n",
    "\n",
    "Sí difiere, por ser una representacion con dimensionalidad reducida. $C_k$ representa la reducción de dimensionalidad lineal mediante descomposición de valor singular truncado [1]. \n",
    "\n",
    "> **¿Para que se podría utilizar $C_k$?**\n",
    "\n",
    "El $C_k$ representa a la matriz original mediante un k optimo menor o igual al numero de palabras. Este es util ya que al tomar un k optimo se puede representar a la matriz original en menor dimensionalidad, disminuyendo el costo computacional de cualquier operacion matricial.\n",
    "\n",
    "**Bibliografia**\n",
    "1.  Scikit-Learn Editors, 2020, \"sklearn.decomposition.TruncadoSVD\", Disponible en: [Scikit](https://scikit-learn.org/stable/modules/generated/sklearn.decomposition.TruncatedSVD.html) \n",
    "\n",
    "\n",
    "\n"
   ]
  },
  {
   "cell_type": "markdown",
   "metadata": {
    "id": "SxDQxg-Bdf9j"
   },
   "source": [
    "Tomando como base la siguiente consulta:\n",
    "\n",
    "`q = [1, 0, 1, 1, 1]`\n",
    "\n",
    "transfórmela a un espacio `k` dimensional, donde `k=2` mediante la siguiente fórmula:\n",
    "\n",
    "$q_k = \\Sigma_k^{-1} U_k^T q$\n"
   ]
  },
  {
   "cell_type": "code",
   "execution_count": null,
   "metadata": {
    "colab": {
     "base_uri": "https://localhost:8080/"
    },
    "id": "yeRci_6gdf9j",
    "outputId": "210d17fa-9120-44fc-c913-085b83b58239"
   },
   "outputs": [
    {
     "name": "stdout",
     "output_type": "stream",
     "text": [
      "q\n",
      " [1, 0, 1, 1, 1]\n",
      "\n",
      "qk\n",
      " [0.8700902  0.11918695 0.         0.         0.         0.        ]\n"
     ]
    }
   ],
   "source": [
    "# Calculo de qk\n",
    "from numpy.linalg import pinv\n",
    "q = [1, 0, 1, 1, 1]\n",
    "Ut=np.transpose(U[:,[0,1]])\n",
    "SigmaInv=np.linalg.pinv(sigma[[0,1],:])\n",
    "qk = np.dot(SigmaInv, np.dot(Ut, q))\n",
    "print(\"q\\n\",q)\n",
    "print(\"\\nqk\\n\",qk)"
   ]
  },
  {
   "cell_type": "markdown",
   "metadata": {
    "id": "fvymk9yLdf9j"
   },
   "source": [
    "Calcule la distancia de coseno entre la consulta $q$ y los documentos. Repita la consulta ahora usando $q_k$ y la matriz de documentos de dimensionalidad reducida. ¿Que documento es el más relevante para estos métodos? ¿Los resultados difieren, porque?"
   ]
  },
  {
   "cell_type": "code",
   "execution_count": null,
   "metadata": {
    "colab": {
     "base_uri": "https://localhost:8080/"
    },
    "id": "ULLrrbJDdf9j",
    "outputId": "75a7fb30-87a3-4ae5-c8be-66acfc6cd465"
   },
   "outputs": [
    {
     "name": "stdout",
     "output_type": "stream",
     "text": [
      "Distancia de Coseno Matriz C\n",
      " [0.1339745962155614, 0.6464466094067263, 0.5, 0.29289321881345254, 0.5, 0.5]\n",
      "\n",
      "Documento mas similar:  2\n"
     ]
    }
   ],
   "source": [
    "from scipy.spatial import distance\n",
    "# Calculo de distancia de coseno entre q y c\n",
    "ct=np.transpose(c)\n",
    "cos_sim=[]\n",
    "for i in range(len(ct)):\n",
    "    cos_sim.append(distance.cosine(q,ct[i]))\n",
    "print(\"Distancia de Coseno Matriz C\\n\", cos_sim)\n",
    "print(\"\\nDocumento mas similar: \",np.argmax(cos_sim)+1)"
   ]
  },
  {
   "cell_type": "code",
   "execution_count": null,
   "metadata": {
    "colab": {
     "base_uri": "https://localhost:8080/"
    },
    "id": "PCSOkJ0nuU6W",
    "outputId": "97025774-cb34-4544-faad-8a5608ed3f8f"
   },
   "outputs": [
    {
     "name": "stdout",
     "output_type": "stream",
     "text": [
      "Distancia de Coseno Matriz Ck\n",
      " [0.42799141636786, 0.9040350565220314, 0.009252070783622224, 1.0, 1.0, 1.0]\n",
      "\n",
      "Documento mas similar:  4\n"
     ]
    }
   ],
   "source": [
    "# Calculo de distancia de coseno entre qk y ck\n",
    "ctk=np.transpose(ck)\n",
    "cos_sim_ck=[]\n",
    "for i in range(len(ct)):\n",
    "    cos_sim_ck.append(distance.cosine(qk[:5],ct[i]))\n",
    "\n",
    "print(\"Distancia de Coseno Matriz Ck\\n\", cos_sim_ck)\n",
    "print(\"\\nDocumento mas similar: \",np.argmax(cos_sim_ck)+1)"
   ]
  },
  {
   "cell_type": "markdown",
   "metadata": {
    "id": "A0E3pTmr5uos"
   },
   "source": [
    "Los resultados si difieren, esto se debe a la formula de calculo. "
   ]
  },
  {
   "cell_type": "markdown",
   "metadata": {
    "id": "PN1vHK9Jdf9k"
   },
   "source": [
    "Muestre un gráfico con la ubicación de los documentos y la consulta en el espacio k-dimensional (`k=2`). Etiquete los documentos en el gráfico, e.g. `D1`, `D2`, ..."
   ]
  },
  {
   "cell_type": "code",
   "execution_count": null,
   "metadata": {
    "colab": {
     "base_uri": "https://localhost:8080/",
     "height": 483
    },
    "id": "Rh_VKjATdf9k",
    "outputId": "dc153f3b-5bcb-4d13-d8c5-aebbab74cc9c"
   },
   "outputs": [
    {
     "data": {
      "image/png": "[encoded data removed]",
      "text/plain": [
       "<Figure size 1080x576 with 1 Axes>"
      ]
     },
     "metadata": {
      "needs_background": "light",
      "tags": []
     },
     "output_type": "display_data"
    }
   ],
   "source": [
    "# Grafico de ck y qk\n",
    "import matplotlib.pyplot as plt\n",
    "\n",
    "doc1=ck[0]\n",
    "doc2=ck[1]\n",
    "doc3=ck[2]\n",
    "doc4=ck[3]\n",
    "doc5=ck[4]\n",
    "plt.rcParams[\"figure.figsize\"] = (15,8)\n",
    "plt.plot(doc1[0],doc1[1], 'ro', marker=\".\")\n",
    "plt.plot(doc2[0],doc2[1], 'ro', marker=\".\")\n",
    "plt.plot(doc3[0],doc3[1], 'ro', marker=\".\")\n",
    "plt.plot(doc4[0],doc4[1], 'ro', marker=\".\")\n",
    "plt.plot(doc5[0],doc5[1], 'ro', marker=\".\")\n",
    "plt.text(doc1[0],doc1[1],'Doc 1')\n",
    "plt.text(doc2[0],doc2[1],'Doc 2')\n",
    "plt.text(doc3[0],doc3[1],'Doc 3')\n",
    "plt.text(doc4[0],doc4[1],'Doc 4')\n",
    "plt.text(doc5[0],doc5[1],'Doc 5')\n",
    "qt=qk[:2]\n",
    "plt.plot(qt[0],qt[1], 'g', marker=\"P\")\n",
    "plt.text(qt[0],qt[1],'Consulta')\n",
    "\n",
    "plt.show()"
   ]
  },
  {
   "cell_type": "markdown",
   "metadata": {
    "id": "xKQGzeRIdf9k"
   },
   "source": [
    "## Ejercicio 4"
   ]
  },
  {
   "cell_type": "markdown",
   "metadata": {
    "id": "zweEPbl3df9l"
   },
   "source": [
    "Obtenga los 4 documentos más relevantes de un cuerpo de texto considerando la consulta `\"Organization University of Maryland engine\"`. Para este ejercicio se deberá usar la librería `gensim`. Se deberá implementar las siguientes tareas:\n",
    "- tokenización\n",
    "- stop word removal\n",
    "- lematización\n",
    "- stemming\n",
    "- representación mediante tf-idf\n",
    "- creación del modelo LSI\n",
    "\n",
    "Para este ejercicio, se deberá crear el modelo LSI con un `k=1000` (si el alumno desea, puede obtener buscar un `k` más óptimo).\n",
    "\n",
    "Finalmente, con un LSI entrenado con `k=2`, graficar los documentos y la consulta en un espacio 2-dimensional."
   ]
  },
  {
   "cell_type": "code",
   "execution_count": null,
   "metadata": {
    "id": "BWOA16B5df9l"
   },
   "outputs": [],
   "source": [
    "# el siguiente código, carga el dataset `20newsgroups` del paquete sklearn y realiza una limpieza simple inicial\n",
    "from sklearn.datasets import fetch_20newsgroups\n",
    "newsgroups_train = fetch_20newsgroups(subset='train')\n",
    "\n",
    "data = newsgroups_train.data\n",
    "data = [re.sub('\\S*@\\S*\\s?', '', sent) for sent in data]\n",
    "data = [re.sub('\\s+', ' ', sent) for sent in data]\n",
    "data = [re.sub(\"\\'\", \"\", sent) for sent in data]\n",
    "\n",
    "documents_train = data\n",
    "document_test = \"Organization University of Maryland engine\"  # documento de búsqueda\n",
    "\n",
    "# inserte su código aquí"
   ]
  },
  {
   "cell_type": "code",
   "execution_count": null,
   "metadata": {
    "colab": {
     "base_uri": "https://localhost:8080/"
    },
    "id": "mNqlvHHC0BnP",
    "outputId": "a7e2c139-f6d3-4065-ee29-4f076c5eaad1"
   },
   "outputs": [
    {
     "name": "stdout",
     "output_type": "stream",
     "text": [
      "[nltk_data] Downloading package wordnet to /root/nltk_data...\n",
      "[nltk_data]   Package wordnet is already up-to-date!\n"
     ]
    }
   ],
   "source": [
    "# Tokenización\n",
    "tokenized_data = []\n",
    "\n",
    "for doc in data:\n",
    "    tokenized_data.append(doc.split(' '))\n",
    "\n",
    "\n",
    "# Remove StopWords\n",
    "filtered_docs = []\n",
    "for doc_tokens in tokenized_data:\n",
    "    filtered_doc = []   \n",
    "    for w in doc_tokens: \n",
    "        if w not in stop_words: \n",
    "            filtered_doc.append(w) \n",
    "    filtered_docs.append(filtered_doc)\n",
    "\n",
    "\n",
    "# Lemmatization\n",
    "from nltk.stem import WordNetLemmatizer\n",
    "nltk.download('wordnet')\n",
    "wordnet_lemmatizer = WordNetLemmatizer()\n",
    "\n",
    "lemmatized_docs = []\n",
    "for doc_tokens in filtered_docs:\n",
    "    lemma_word = []\n",
    "    for w in doc_tokens:\n",
    "        word1 = wordnet_lemmatizer.lemmatize(w, pos = \"n\")\n",
    "        word2 = wordnet_lemmatizer.lemmatize(word1, pos = \"v\")\n",
    "        word3 = wordnet_lemmatizer.lemmatize(word2, pos = (\"a\"))\n",
    "        lemma_word.append(word3)\n",
    "    lemmatized_docs.append(lemma_word)\n",
    "\n",
    "# Stemming\n",
    "from nltk.stem import PorterStemmer\n",
    "ps = PorterStemmer()\n",
    "\n",
    "stemmed_docs = []\n",
    "for doc_tokens in lemmatized_docs:\n",
    "    stemmed_word = []\n",
    "    for w in doc_tokens:\n",
    "        rootWord = ps.stem(w)\n",
    "        stemmed_word.append(rootWord)\n",
    "    stemmed_docs.append(stemmed_word)\n",
    "cleaned_docs=stemmed_docs  \n",
    "\n",
    "# Representación TF-IDF\n",
    "from sklearn.feature_extraction.text import TfidfVectorizer\n",
    "\n",
    "corpus = []\n",
    "for doc in stemmed_docs:\n",
    "    corpus.append(' '.join(doc))\n",
    "\n",
    "vectorizer = TfidfVectorizer()\n",
    "X = vectorizer.fit_transform(corpus)"
   ]
  },
  {
   "cell_type": "code",
   "execution_count": null,
   "metadata": {
    "id": "citYxVpsEgUy"
   },
   "outputs": [],
   "source": [
    "# LSA\n",
    "import os.path\n",
    "from gensim import corpora\n",
    "from gensim.models import LsiModel\n",
    "from nltk.tokenize import RegexpTokenizer\n",
    "from nltk.corpus import stopwords\n",
    "from nltk.stem.porter import PorterStemmer\n",
    "from gensim.models.coherencemodel import CoherenceModel\n",
    "\n",
    "# genera el diccionario de términos y la matriz de términos\n",
    "dictionary = corpora.Dictionary(cleaned_docs)\n",
    "doc_term_matrix = [dictionary.doc2bow(doc) for doc in cleaned_docs]"
   ]
  },
  {
   "cell_type": "code",
   "execution_count": null,
   "metadata": {
    "id": "MkTiUGSWEh7S"
   },
   "outputs": [],
   "source": [
    "# generate LSA model, 1000 topics\n",
    "number_of_topics = 1000\n",
    "lsamodel_1000 = LsiModel(doc_term_matrix, num_topics=number_of_topics, id2word=dictionary)"
   ]
  },
  {
   "cell_type": "code",
   "execution_count": null,
   "metadata": {
    "id": "vVPvJCEaEjNJ"
   },
   "outputs": [],
   "source": [
    "# generate LSA model, 2 topics\n",
    "number_of_topics = 2\n",
    "lsamodel_2 = LsiModel(doc_term_matrix, num_topics=number_of_topics, id2word=dictionary)"
   ]
  },
  {
   "cell_type": "code",
   "execution_count": null,
   "metadata": {
    "colab": {
     "base_uri": "https://localhost:8080/"
    },
    "id": "wxi3x_lQEoQr",
    "outputId": "c034c674-0ac5-47c9-b386-721f3cb3eb42"
   },
   "outputs": [
    {
     "name": "stdout",
     "output_type": "stream",
     "text": [
      "0.70944935 From: (Robert Lipman) Subject: Call for presentations: Navy SciViz/VR seminar Reply-To: (Robert Lipman) Organization: Carderock Division, NSWC, Bethesda, MD Lines: 74 ********************************************************************** 2ND CALL FOR PRESENTATIONS NAVY SCIENTIFIC VISUALIZATION AND VIRTUAL REALITY SEMINAR Tuesday, June 22, 1993 Carderock Division, Naval Surface Warfare Center (formerly the David Taylor Research Center) Bethesda, Maryland ********************************************************************** SPONSOR: NESS (Navy Engineering Software System) is sponsoring a one-day Navy Scientific Visualization and Virtual Reality Seminar. The purpose of the seminar is to present and exchange information for Navy-related scientific visualization and virtual reality programs, research, developments, and applications. PRESENTATIONS: Presentations are solicited on all aspects of Navy-related scientific visualization and virtual reality. All current work, works-in-progress, and proposed work by Navy organizations will be considered. Four types of presentations are available. 1. Regular presentation: 20-30 minutes in length 2. Short presentation: 10 minutes in length 3. Video presentation: a stand-alone videotape (author need not attend the seminar) 4. Scientific visualization or virtual reality demonstration (BYOH) Accepted presentations will not be published in any proceedings, however, viewgraphs and other materials will be reproduced for seminar attendees. ABSTRACTS: Authors should submit a one page abstract and/or videotape to: Robert Lipman Naval Surface Warfare Center, Carderock Division Code 2042 Bethesda, Maryland 20084-5000 VOICE (301) 227-3618; FAX (301) 227-5753 E-MAIL Authors should include the type of presentation, their affiliations, addresses, telephone and FAX numbers, and addresses. Multi-author papers should designate one point of contact. ********************************************************************** DEADLINES: The abstact submission deadline is April 30, 1993. Notification of acceptance will be sent by May 14, 1993. Materials for reproduction must be received by June 1, 1993. ********************************************************************** For further information, contact Robert Lipman at the above address. ********************************************************************** PLEASE DISTRIBUTE AS WIDELY AS POSSIBLE, THANKS. ********************************************************************** Robert Lipman | Internet: David Taylor Model Basin - CDNSWC | or: Computational Signatures and | Voicenet: (301) 227-3618 Structures Group, Code 2042 | Factsnet: (301) 227-5753 Bethesda, Maryland 20084-5000 | Phishnet: The sixth sick shieks sixth sheeps sick. \n",
      "0.70041335 From: (Robert Lipman) Subject: CALL FOR PRESENTATIONS: Navy SciViz/VR Seminar Article-I.D.: oasys.32850 Expires: 30 Apr 93 04:00:00 GMT Reply-To: (Robert Lipman) Distribution: usa Organization: Carderock Division, NSWC, Bethesda, MD Lines: 65 CALL FOR PRESENTATIONS NAVY SCIENTIFIC VISUALIZATION AND VIRTUAL REALITY SEMINAR Tuesday, June 22, 1993 Carderock Division, Naval Surface Warfare Center (formerly the David Taylor Research Center) Bethesda, Maryland SPONSOR: NESS (Navy Engineering Software System) is sponsoring a one-day Navy Scientific Visualization and Virtual Reality Seminar. The purpose of the seminar is to present and exchange information for Navy-related scientific visualization and virtual reality programs, research, developments, and applications. PRESENTATIONS: Presentations are solicited on all aspects of Navy-related scientific visualization and virtual reality. All current work, works-in-progress, and proposed work by Navy organizations will be considered. Four types of presentations are available. 1. Regular presentation: 20-30 minutes in length 2. Short presentation: 10 minutes in length 3. Video presentation: a stand-alone videotape (author need not attend the seminar) 4. Scientific visualization or virtual reality demonstration (BYOH) Accepted presentations will not be published in any proceedings, however, viewgraphs and other materials will be reproduced for seminar attendees. ABSTRACTS: Authors should submit a one page abstract and/or videotape to: Robert Lipman Naval Surface Warfare Center, Carderock Division Code 2042 Bethesda, Maryland 20084-5000 VOICE (301) 227-3618; FAX (301) 227-5753 E-MAIL Authors should include the type of presentation, their affiliations, addresses, telephone and FAX numbers, and addresses. Multi-author papers should designate one point of contact. DEADLINES: The abstact submission deadline is April 30, 1993. Notification of acceptance will be sent by May 14, 1993. Materials for reproduction must be received by June 1, 1993. For further information, contact Robert Lipman at the above address. PLEASE DISTRIBUTE AS WIDELY AS POSSIBLE, THANKS. Robert Lipman | Internet: David Taylor Model Basin - CDNSWC | or: Computational Signatures and | Voicenet: (301) 227-3618 Structures Group, Code 2042 | Factsnet: (301) 227-5753 Bethesda, Maryland 20084-5000 | Phishnet: The sixth sick shieks sixth sheeps sick. \n",
      "0.70026517 From: (Robert Lipman) Subject: CALL FOR PRESENTATIONS: Navy SciViz/VR Seminar Expires: 30 Apr 93 04:00:00 GMT Reply-To: (Robert Lipman) Distribution: usa Organization: Carderock Division, NSWC, Bethesda, MD Lines: 66 CALL FOR PRESENTATIONS NAVY SCIENTIFIC VISUALIZATION AND VIRTUAL REALITY SEMINAR Tuesday, June 22, 1993 Carderock Division, Naval Surface Warfare Center (formerly the David Taylor Research Center) Bethesda, Maryland SPONSOR: NESS (Navy Engineering Software System) is sponsoring a one-day Navy Scientific Visualization and Virtual Reality Seminar. The purpose of the seminar is to present and exchange information for Navy-related scientific visualization and virtual reality programs, research, developments, and applications. PRESENTATIONS: Presentations are solicited on all aspects of Navy-related scientific visualization and virtual reality. All current work, works-in-progress, and proposed work by Navy organizations will be considered. Four types of presentations are available. 1. Regular presentation: 20-30 minutes in length 2. Short presentation: 10 minutes in length 3. Video presentation: a stand-alone videotape (author need not attend the seminar) 4. Scientific visualization or virtual reality demonstration (BYOH) Accepted presentations will not be published in any proceedings, however, viewgraphs and other materials will be reproduced for seminar attendees. ABSTRACTS: Authors should submit a one page abstract and/or videotape to: Robert Lipman Naval Surface Warfare Center, Carderock Division Code 2042 Bethesda, Maryland 20084-5000 VOICE (301) 227-3618; FAX (301) 227-5753 E-MAIL Authors should include the type of presentation, their affiliations, addresses, telephone and FAX numbers, and addresses. Multi-author papers should designate one point of contact. DEADLINES: The abstact submission deadline is April 30, 1993. Notification of acceptance will be sent by May 14, 1993. Materials for reproduction must be received by June 1, 1993. For further information, contact Robert Lipman at the above address. PLEASE DISTRIBUTE AS WIDELY AS POSSIBLE, THANKS. Robert Lipman | Internet: David Taylor Model Basin - CDNSWC | or: Computational Signatures and | Voicenet: (301) 227-3618 Structures Group, Code 2042 | Factsnet: (301) 227-5753 Bethesda, Maryland 20084-5000 | Phishnet: The sixth sick shieks sixth sheeps sick. \n",
      "0.19779949 From: (Kevin Day) Subject: Re: Lots of runs Reply-To: (Kevin Day) Organization: Carderock Division, NSWC, Bethesda, MD Lines: 18 In rec.sport.baseball, (Charles Rosen) writes: >I have noticed that this year has had a lot of high scoring games (at least the >NL has). I believe one reason are the expansion teams. Any thoughts? > Except for the fact that there seems to be a lot of high scoring AL games also and I dont think the expansion teams directly affect them. K. Scott Day Carderock Division, Naval Surface Warfare Center Code 1252 Bethesda, Maryland 20084-5000 ------------------------------------------------------------------------ * \"The point to remember is that what the government gives * it must first take away.\" * -John S. Coleman ------------------------------------------------------------------------ \n"
     ]
    }
   ],
   "source": [
    "# Encontrar 4 docs, con la query\n",
    "\n",
    "# Definir la matriz de similaridad\n",
    "from gensim import similarities\n",
    "index = similarities.MatrixSimilarity(lsamodel_1000[doc_term_matrix])\n",
    "\n",
    "# Document test en el espacio LSI\n",
    "vec_bow = dictionary.doc2bow(document_test.lower().split())\n",
    "vec_lsi = lsamodel_1000[vec_bow]\n",
    "\n",
    "# Encontrar documentos similares\n",
    "sims = index[vec_lsi]\n",
    "sims = sorted(enumerate(sims), key=lambda item: -item[1])\n",
    "\n",
    "for doc_position, doc_score in sims[:4]:\n",
    "    print(doc_score, documents_train[doc_position])"
   ]
  },
  {
   "cell_type": "code",
   "execution_count": null,
   "metadata": {
    "colab": {
     "base_uri": "https://localhost:8080/"
    },
    "id": "BKKb3RIOFzUT",
    "outputId": "70996b41-72a6-4639-d41e-aa6c204b43fb"
   },
   "outputs": [
    {
     "name": "stdout",
     "output_type": "stream",
     "text": [
      "1.0 From: (Eric Bosco) Subject: Windows 3.1 keeps crashing: Please HELP Nntp-Posting-Host: monica.us.oracle.com Reply-To: Organization: Oracle Corp., Redwood Shores CA X-Disclaimer: This message was written by an unauthenticated user at Oracle Corporation. The opinions expressed are those of the user and not necessarily those of Oracle. Lines: 41 As the subjects says, Windows 3.1 keeps crashing (givinh me GPF) on me of late. It was never a very stable package, but now it seems to crash every day. The worst part about it is that it does not crash consistently: ie I cant reproduce crashes, and they are not always GPFs in the same application. Sometimes I can recover by simply closing the application that caused an error, but other times, windows acts very strange, and I need to re-boot. Some background: I have a Leading Edge 486sx25 with Phoenix BIOS. When I first got it it had 4Mg of memory. It ran windows fine (not too many GPFs). Then, a couple of weekends ago, I installed Lotus 123 for windows (with ATM), a game card and an additional 4 1Mg SIMMS. The Leading edge machine is kind of strange, in that it has the IDE controler built into the motherboard, the CPU is actually on a sparate board that plugs into the motherboard and the SIMMS it uses are Macintosh SIMMS! Apparently I was told that the Leading Edge had the parity bit built into the mother board. The original 4Mg 80ns SIMMS where of the 2 chip variety from SAMSUNG, and the ones I installed are 8 chip SIMMS. They are recognized fine by the BIOS RAM check. The game card is a generic $20 gamecard. The reason why I mention the hardware like this is that sometimes rebooting the machine using the reset button or ctl-alt-del still leaves the machine kind of flaky, but turning it on and off doesnt. I havent tried taking out the RAM or the game card, because as I said these GPF are not reproducible at will. I have gone through and entire day using the computer with no problems and then I might get 5 or so GPFs in the sppace of 20 minutes? What can I do. This situation is most annoying... Are there any good diagnostic tools for hardware? Do you think that this might be a software problem (ie EMM386 etc.)? If it helps, i have manage to get GPFs on After Dark, quicken, Paint shop pro. A lot of them have been in user.exe or gdi.exe. Any help is truly appreciated..... -Eric \n",
      "1.0 From: (Brian Ceccarelli 602/621-9615) Subject: Re: Is it good that Jesus died? Organization: Lunar & Planetary Laboratory, Tucson AZ. Lines: 69 Jim Burhill writes: >Would you consider the word of an eye-witness (Peter) to testify to the >events surrounding Jesus life? >No. There are two problems here: Brian Kendig writes: >(1) Peter died two millenia ago. The original letters he wrote have >long since decayed into dust. If he were alive today and I could Do you question the existence of Alexander the Great, Tilgrath Pilisar III, Nero, Caligula, Josephus, Cyrus the Great, Artexerxes? Their documents have decayed to dust too. Brian, why another excuse? >(2) Even if Peter did witness the miracles of Jesus two millenia ago, >that doesnt mean that your deity is what the Bible says it is (God >might just be Satan, trying to convince everyone that hes a nice >guy), or even that your deity is still alive and active in the world >today. Peter wrote a bit of the Bible. What Peter says about God is what the Bible says. Consider the Bible a court recording. Over the period of thousands of years, various people come up and testify of their experience with the living God. Up comes Abraham the wealthy rancher. Up comes Moses, once the high official of Egypt. Up comes Elijah, a priest. Up comes David, a mere shepherd who became King. Up comes the pagan King Nebuchanezzar. Up comes the pagan King of Persia, Cyrus. Up comes Nehemiah, cupbearer to the King of Persia. Then Matthew, an IRS agent takes the stand. Up comes Luke, an M.D. Then Paul a Jew who use to kill Christians for fun. Up comes John, a 17 year old boy. Up comes Peter, a fishermen. Up comes James, the brother of Jesus himself. Up comes hundreds of others. You hear testimony from fishermen, IRS agents, priests, Kings. The court hearing lasts thousands of years with people coming up and testifying about the God who calls himself \"I am.\" While you are listening to all this stuff, you realize that King David could have never known John, Solomon could have never known Matthew, Nehemiah could have never known Peter. You realize that all these people are independent witnesses, and so, you rule out collaboration. Yet all of the witnesses tell of the same God. Each testifier tells of his own experiences with the living God. Each experience is different, but each experience has enough cross-over to unmistakenly reveal that each one of these people is talking about the very same God. What Daniel did not know about God, the 3rd Highest Official of Babylon, God revealed to John 600 years later--but with a different perspective. No two testimonies are identical. Each testimony dares to venture off what is already known. Yet each witnesss testimony, even though different from those prior, consistently describes harmoniously fitting facets of the character of the same God. Now. As we stare gazing at the computer, you got this seeming fanatic on the other end of the net, saying, I know this God \"I am\". He has revealed himself to me too. He also calls himself Jesus (John 8:58). Please believe me. I am telling the truth. It is wonderful to know him. Are you going to just pass off all this testimony as fictiousness? Are you going to call three thousand years worth of testimony from shepherds to IRS agents to royal officials to kings to computer programmers, fiction? With a scoff of your keyboard, with near complete ignorance of the testimonies, are you going to say that that is all complete hooey? Would that not be the most audacious display of arrogance? Do you actually think you know better than King Solomon, King David, or even Abraham Lincolnr? \n",
      "1.0 From: (Mark Ira Kaufman) Subject: Brad Hernlem vs. principle Organization: Case Western Reserve University, Cleveland, Ohio (USA) Lines: 50 NNTP-Posting-Host: thor.ins.cwru.edu In his neverending effort to make sure that we do not forget what a moron he is, Brad Hernlem has asked why Israel rarely abides by UN Security Council resolutions. Perhaps the list below might answer the question. Incident Security Council Response ------------------------------------------------------------ 1. Hindu-Moslem clash in INdia, over 2,000 killed, 1990 NONE 2. Gassing to death of over 8,000 Kurds by NONE Iraqi Air Force, 1988-89 3. Saudi security forces slaughter NONE 400 pilgrims in Mecca, 1987 4. Killing by Algerian army of 500 demonstrators, 1988 NONE 5. Intrafada (Arabs killing Arabs) -- over 300 killed NONE 6. 30,000 civilians slaughtered by government NONE troops in Hama, Syria, 1982 7. Killing of 5,000 Palestinians by Jordanian troops, NONE thousands expelled, Sept., 1970 8. 87 Moslems killed in Egypt, 1981 NONE 9. 77 killed in Egyption bread riots, 1977 NONE 10. 30 border and rocket attacks against Israel by NONE the PLO in 1989 alone 11. Munich, 1972: 11 Israeli athletes slaughtered NONE 12. Maalot, 1974: children killed in PLO attack NONE 13. Israel Coastal bus attack: 34 dead, 82 wounded NONE 14. Syria kills 23,000 Palestinians, 1976 NONE 15. Lebanon: over 150,000 dead since 1975 NONE 16. Yemen: 13,000 killed in two weeks, 1986 NONE 17. Sudan: Tens of thousands of Black slaves, NONE Civil War toll, 1 million killed, 3 million refugees 18. Tienenman Square massacre 1989 NONE 19. Rumania, 3,000 killed, 1989 NONE 20. Pan Am 103 disaster carried out by the P.L.O NONE 21. Northern Ireland NONE 22. Cambodia NONE 23. Soviet Occupation of Afghanistan NONE 24. American riots at Attica, Watts, Newark, Kent State NONE 25. 1981: Israel destroys Iraqi reractor, Israel CONDEMNED 26. 1990: Israeli police protect Israeli worshipers CONDEMNED against Arab mob, 18 anti-Jewish rioters killed 27. Syrian soldiers slaughter Christian soldiers NONE after they surrender, 1990 It appears that Brad Hernlem and the United Nations Security Council have something in common. They both seem unfettered by the demands of acting on principle. \n",
      "1.0 From: (Dennis Filipowski) Subject: ? Octopus Organization: Hewlett-Packard X-Newsreader: TIN [version 1.1.4 PL6] Lines: 4 During the Detroit game Mon night there were octopus thrown on the ice what is the meaning or symbolism here? They used to throw fish on the ice here in Spokane afew years ago. I never knew where this came from. \n"
     ]
    }
   ],
   "source": [
    "# Query en el modelo con k=2\n",
    "\n",
    "# Definir la matriz de similaridad\n",
    "from gensim import similarities\n",
    "index = similarities.MatrixSimilarity(lsamodel_2[doc_term_matrix])\n",
    "\n",
    "# Document test en el espacio LSI\n",
    "vec_bow = dictionary.doc2bow(document_test.lower().split())\n",
    "vec_lsi = lsamodel_2[vec_bow]\n",
    "\n",
    "# Encontrar documentos similares\n",
    "sims = index[vec_lsi]\n",
    "sims = sorted(enumerate(sims), key=lambda item: -item[1])\n",
    "\n",
    "similar_docs = sims[:4]\n",
    "for doc_position, doc_score in sims[:4]:\n",
    "    print(doc_score, documents_train[doc_position])\n"
   ]
  },
  {
   "cell_type": "code",
   "execution_count": null,
   "metadata": {
    "colab": {
     "base_uri": "https://localhost:8080/",
     "height": 483
    },
    "id": "S5deQxe1MTo_",
    "outputId": "e4b3e996-6e2d-46e0-ebe4-d9ebce01c360"
   },
   "outputs": [
    {
     "data": {
      "image/png": "[encoded data removed]",
      "text/plain": [
       "<Figure size 1080x576 with 1 Axes>"
      ]
     },
     "metadata": {
      "needs_background": "light",
      "tags": []
     },
     "output_type": "display_data"
    }
   ],
   "source": [
    "# Grafica:\n",
    "import matplotlib.pyplot as plt\n",
    "\n",
    "x = []\n",
    "y = []\n",
    "for doc in similar_docs:\n",
    "    x.append(doc[0])\n",
    "    y.append(doc[1])\n",
    "\n",
    "plt.scatter(x, y)\n",
    "\n",
    "query_doc = (vec_lsi[0][0], vec_lsi[1][0])\n",
    "plt.scatter([query_doc[0]], [query_doc[1]])\n",
    "\n",
    "plt.show()"
   ]
  }
 ],
 "metadata": {
  "colab": {
   "collapsed_sections": [],
   "name": "Abad_Reinozo.ipynb",
   "provenance": []
  },
  "kernelspec": {
   "display_name": "Python 3",
   "language": "python",
   "name": "python3"
  },
  "language_info": {
   "codemirror_mode": {
    "name": "ipython",
    "version": 3
   },
   "file_extension": ".py",
   "mimetype": "text/x-python",
   "name": "python",
   "nbconvert_exporter": "python",
   "pygments_lexer": "ipython3",
   "version": "3.7.6"
  }
 },
 "nbformat": 4,
 "nbformat_minor": 1
}
