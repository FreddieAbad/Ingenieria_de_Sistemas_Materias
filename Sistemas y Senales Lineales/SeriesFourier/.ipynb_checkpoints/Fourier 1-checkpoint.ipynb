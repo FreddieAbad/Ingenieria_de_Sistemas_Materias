{
 "cells": [
  {
   "cell_type": "code",
   "execution_count": null,
   "metadata": {},
   "outputs": [],
   "source": [
    "#Blog\n",
    "#http://www.auraauro.com/uncategorized/demonstration-of-fourier-series-using-python-code/\n",
    "#Codigo\n",
    "# http://www.auraauro.com/wp-content/uploads/2015/03/See-more2.pdf \n",
    "import numpy as np\n",
    "import matplotlib.pyplot as plt\n",
    "resolution = 0.0001\n",
    "x = np.arange(-np.pi,np.pi,resolution)# -pi to pi with the interval of 0.0001\n",
    "square = np.array(x)\n",
    "square[range(x.size)] = 0\n",
    "square[range(int(x.size/2))] = 1\n",
    "square[range(int(x.size/2), int(x.size))]= 0\n",
    "np.trapz(square,x) # integration of f(x)\n",
    "a0 = (np.trapz(square,x))/ np.pi # dividing by pi which is present out side the integration\n",
    "n=1\n",
    "harm = np.sin(n*x)\n",
    "mult1 = square*harm\n",
    "fund = np.trapz(mult1,x)\n",
    "np.trapz(mult1,x)\n",
    "b1 = (np.trapz(mult1,x))/np.pi\n",
    "n=3\n",
    "harm = np.sin(n*x)\n",
    "mult2 = square*harm\n",
    "third = np.trapz(mult2,x)\n",
    "np.trapz(mult2,x)\n",
    "b3 = (np.trapz(mult2,x))/np.pi\n",
    "20*np.log10(abs(third/fund))\n",
    "plt.subplot(311)\n",
    "plt.plot(x,square)\n",
    "plt.xlabel('(x)')\n",
    "plt.ylabel('f(x)')\n",
    "plt.title('SIGNAL', fontsize=18)\n",
    "plt.subplot(312)\n",
    "plt.plot(x,mult1)\n",
    "plt.plot(x,square)\n",
    "plt.xlabel('(x)')\n",
    "plt.ylabel('sin(1*x)*f(x)')\n",
    "plt.subplot(313)\n",
    "plt.plot(x,mult2)\n",
    "plt.plot(x,square)\n",
    "plt.xlabel('(x)')\n",
    "plt.ylabel('sin(3*x)*f(x)')\n",
    "plt.show()"
   ]
  }
 ],
 "metadata": {
  "kernelspec": {
   "display_name": "Python 3",
   "language": "python",
   "name": "python3"
  },
  "language_info": {
   "codemirror_mode": {
    "name": "ipython",
    "version": 3
   },
   "file_extension": ".py",
   "mimetype": "text/x-python",
   "name": "python",
   "nbconvert_exporter": "python",
   "pygments_lexer": "ipython3",
   "version": "3.7.4"
  }
 },
 "nbformat": 4,
 "nbformat_minor": 2
}
